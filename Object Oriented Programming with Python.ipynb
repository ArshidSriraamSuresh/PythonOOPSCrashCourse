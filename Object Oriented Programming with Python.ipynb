{
 "cells": [
  {
   "cell_type": "markdown",
   "id": "e756d709",
   "metadata": {},
   "source": [
    "##### Object Oriented Programming with Python"
   ]
  },
  {
   "cell_type": "code",
   "execution_count": null,
   "id": "a023cf78",
   "metadata": {},
   "outputs": [],
   "source": [
    "# Part 1"
   ]
  },
  {
   "cell_type": "code",
   "execution_count": 52,
   "id": "f0c7c05d",
   "metadata": {},
   "outputs": [],
   "source": [
    "# For humans these appear related to each other\n",
    "item1 = 'Loreal Shampoo' \n",
    "item1_price = 175\n",
    "item1_quantity = 5\n",
    "item1_price_total = item1_price * item1_quantity"
   ]
  },
  {
   "cell_type": "code",
   "execution_count": 53,
   "id": "87efee95",
   "metadata": {},
   "outputs": [
    {
     "name": "stdout",
     "output_type": "stream",
     "text": [
      "<class 'str'>\n",
      "<class 'int'>\n",
      "<class 'int'>\n",
      "<class 'int'>\n"
     ]
    }
   ],
   "source": [
    "# For Python these are just variables of different data types\n",
    "print(type(item1)) # str\n",
    "print(type(item1_price)) # int\n",
    "print(type(item1_quantity)) # int\n",
    "print(type(item1_price_total)) #int\n",
    "# In Python programming language each data type is an instance or an objects of a class.\n",
    "# Lets see about this  further below."
   ]
  },
  {
   "cell_type": "code",
   "execution_count": 5,
   "id": "96de6abf",
   "metadata": {},
   "outputs": [],
   "source": [
    "# For each of the type we see the keyword class\n",
    "# Example: class 'str',class 'int',class 'float',class 'bool' etc.\n",
    "# item1 is an instance or object of the class 'str'.\n",
    "# item1_price,item1_quantity,item1_price_total are instance or oject of class 'int'.\n",
    "# And so class 'str' and class 'int' are pre built classes or tempelates which we are using to create a datat type.\n",
    "# Example: In class 'str' as we have seen earlier there are string functions written in this class which are unique too strings.\n",
    "# Creating an instance or creating an object means the same thing.....\n",
    "# Once we create an object or instance of class 'str' we will be able to use the pre-defined functions of this class because the ogject is an instance of a class/ built template or blueprint."
   ]
  },
  {
   "cell_type": "code",
   "execution_count": null,
   "id": "f1eff6b0",
   "metadata": {},
   "outputs": [],
   "source": [
    "# We can write our own classes or of our own......."
   ]
  },
  {
   "cell_type": "code",
   "execution_count": null,
   "id": "96fdb969",
   "metadata": {},
   "outputs": [],
   "source": [
    "# Twwo parts of actions:\n",
    "# Create a class\n",
    "# Create an instance / Create an object of the created class."
   ]
  },
  {
   "cell_type": "code",
   "execution_count": null,
   "id": "35e43d85",
   "metadata": {},
   "outputs": [],
   "source": [
    "# To create a class, we use class keyword.\n",
    "# Syntax: class ClassName # Use Pascal case for the class name.\n",
    "# Regularly we follow indentation rule 'tab' to include the code under the class. (regular rule......)"
   ]
  },
  {
   "cell_type": "code",
   "execution_count": 54,
   "id": "5d99da61",
   "metadata": {},
   "outputs": [],
   "source": [
    "# Creating a class\n",
    "class Cosmetics:\n",
    "    pass\n",
    "# creating an instance/ object of a class......\n",
    "item1 = Cosmetics()\n",
    "# Creating a random string \n",
    "random_string = \"Hello World\" # Short hand\n",
    "random_string = str(\"Hello World\") # We are actually creating an instance of string class......"
   ]
  },
  {
   "cell_type": "code",
   "execution_count": 55,
   "id": "50f7b392",
   "metadata": {},
   "outputs": [
    {
     "name": "stdout",
     "output_type": "stream",
     "text": [
      "<class '__main__.Cosmetics'>\n",
      "<class 'str'>\n"
     ]
    }
   ],
   "source": [
    "print(type(item1))\n",
    "print(type(random_string))"
   ]
  },
  {
   "cell_type": "code",
   "execution_count": null,
   "id": "94048205",
   "metadata": {},
   "outputs": [],
   "source": [
    "# 'class' keyword - creates class......"
   ]
  },
  {
   "cell_type": "code",
   "execution_count": 56,
   "id": "dbf9b0d8",
   "metadata": {},
   "outputs": [
    {
     "name": "stdout",
     "output_type": "stream",
     "text": [
      "Shampoo\n",
      "555\n",
      "396\n",
      "<class '__main__.Cosmetics'>\n",
      "<class 'str'>\n",
      "<class 'int'>\n",
      "<class 'int'>\n"
     ]
    }
   ],
   "source": [
    "# Assignining Atrributes to an instance of a class - instance attributes\n",
    "# Each instance could have attributes that describes related information about it.\n",
    "class Cosmetics:\n",
    "    pass\n",
    "# creating an instance/ object of a class......\n",
    "item1 = Cosmetics()\n",
    "item1.name = \"Shampoo\"\n",
    "item1.quantity = 555\n",
    "item1.price = 396\n",
    "print(item1.name)\n",
    "print(item1.quantity)\n",
    "print(item1.price)\n",
    "print(type(item1))\n",
    "print(type(item1.name))\n",
    "print(type(item1.quantity))\n",
    "print(type(item1.price))"
   ]
  },
  {
   "cell_type": "code",
   "execution_count": 57,
   "id": "5ca2748f",
   "metadata": {},
   "outputs": [
    {
     "name": "stdout",
     "output_type": "stream",
     "text": [
      "FFFFFF\n",
      "ffffff\n"
     ]
    }
   ],
   "source": [
    "# We have string methods associated with our strings, but how are we able to access them and where are those methods written ?\n",
    "# The answer: Those string methods/ functions were already written in class 'str'.\n",
    "# Example:\n",
    "some_str = \"ffffff\"\n",
    "print(some_str.upper())\n",
    "print(some_str)\n",
    "# here .upper() is a method written already in class 'str' and is accessed by some_str which is an instance or object of class 'str'.\n",
    "# Functions that are wriitten inside classes are called as methods."
   ]
  },
  {
   "cell_type": "code",
   "execution_count": null,
   "id": "86299566",
   "metadata": {},
   "outputs": [],
   "source": [
    "# The object is passed again to the function by 'self', 'self'is the general convention followed among Python developers."
   ]
  },
  {
   "cell_type": "code",
   "execution_count": 58,
   "id": "8a1dc500",
   "metadata": {},
   "outputs": [
    {
     "ename": "TypeError",
     "evalue": "calculate_total_price() takes 0 positional arguments but 1 was given",
     "output_type": "error",
     "traceback": [
      "\u001b[1;31m---------------------------------------------------------------------------\u001b[0m",
      "\u001b[1;31mTypeError\u001b[0m                                 Traceback (most recent call last)",
      "\u001b[1;32m~\\AppData\\Local\\Temp/ipykernel_26184/61985369.py\u001b[0m in \u001b[0;36m<module>\u001b[1;34m\u001b[0m\n\u001b[0;32m      9\u001b[0m \u001b[0mshampoo\u001b[0m\u001b[1;33m.\u001b[0m\u001b[0mquantity\u001b[0m \u001b[1;33m=\u001b[0m \u001b[1;36m369\u001b[0m\u001b[1;33m\u001b[0m\u001b[1;33m\u001b[0m\u001b[0m\n\u001b[0;32m     10\u001b[0m \u001b[0mshampoo\u001b[0m\u001b[1;33m.\u001b[0m\u001b[0mprice\u001b[0m \u001b[1;33m=\u001b[0m \u001b[1;36m369\u001b[0m\u001b[1;33m\u001b[0m\u001b[1;33m\u001b[0m\u001b[0m\n\u001b[1;32m---> 11\u001b[1;33m \u001b[0mshampoo\u001b[0m\u001b[1;33m.\u001b[0m\u001b[0mcalculate_total_price\u001b[0m\u001b[1;33m(\u001b[0m\u001b[1;33m)\u001b[0m\u001b[1;33m\u001b[0m\u001b[1;33m\u001b[0m\u001b[0m\n\u001b[0m\u001b[0;32m     12\u001b[0m \u001b[1;31m# TypeError ------ python tries to pass one argument but not received using any parameter.\u001b[0m\u001b[1;33m\u001b[0m\u001b[1;33m\u001b[0m\u001b[0m\n\u001b[0;32m     13\u001b[0m \u001b[1;31m# Means we should receive atlest one parameter when creating methods.\u001b[0m\u001b[1;33m\u001b[0m\u001b[1;33m\u001b[0m\u001b[0m\n",
      "\u001b[1;31mTypeError\u001b[0m: calculate_total_price() takes 0 positional arguments but 1 was given"
     ]
    }
   ],
   "source": [
    "# error because self is not used and python cants pass the instance or object to itself.\n",
    "class Cosmetics: # Use Pascal case for class names.\n",
    "    # self keyword: Python passes the object itself as the first argument\n",
    "    def calculate_total_price():\n",
    "        pass\n",
    "    \n",
    "# Creating first instance shampoo.\n",
    "shampoo = Cosmetics()\n",
    "shampoo.quantity = 369\n",
    "shampoo.price = 369\n",
    "shampoo.calculate_total_price()\n",
    "# TypeError ------ python tries to pass one argument but not received using any parameter.\n",
    "# Means we should receive atlest one parameter when creating methods."
   ]
  },
  {
   "cell_type": "code",
   "execution_count": null,
   "id": "9c26bef3",
   "metadata": {},
   "outputs": [],
   "source": [
    "# Since python tries to pass one positional argument which is the instance created to itself it is important to pass it as parameter when the object is created.\n",
    "# It is a common approach or convention to call this 'self' though we can use other names too but it is a general practise and highly recommended to use 'self'.\n",
    "# Python developers stick to these common conventions so use 'self'."
   ]
  },
  {
   "cell_type": "code",
   "execution_count": null,
   "id": "6a1ee17b",
   "metadata": {},
   "outputs": [],
   "source": [
    "# Defining a function in a class without instance attributes........."
   ]
  },
  {
   "cell_type": "code",
   "execution_count": 59,
   "id": "793d43d7",
   "metadata": {},
   "outputs": [
    {
     "name": "stdout",
     "output_type": "stream",
     "text": [
      "<__main__.Cosmetics object at 0x00000204B74F1C40>\n",
      "369\n",
      "369\n",
      "None\n"
     ]
    }
   ],
   "source": [
    "# Functions that are wriitten inside classes are called as methods.\n",
    "# Writing a function inside a class - method.\n",
    "class Cosmetics:\n",
    "    # self keyword: Python passes the object itself as the first argument\n",
    "    def calculate_total_price(self):\n",
    "        pass\n",
    "# Creating first instance shampoo.\n",
    "shampoo = Cosmetics()\n",
    "shampoo.quantity = 369\n",
    "shampoo.price = 369\n",
    "shampoo.calculate_total_price()\n",
    "print(shampoo)\n",
    "print(shampoo.quantity)\n",
    "print(shampoo.price)\n",
    "print(shampoo.calculate_total_price())"
   ]
  },
  {
   "cell_type": "code",
   "execution_count": null,
   "id": "4131c038",
   "metadata": {},
   "outputs": [],
   "source": [
    "# Defining a function in a class without instance attributes........."
   ]
  },
  {
   "cell_type": "code",
   "execution_count": 60,
   "id": "3759abf9",
   "metadata": {},
   "outputs": [
    {
     "data": {
      "text/plain": [
       "136161"
      ]
     },
     "execution_count": 60,
     "metadata": {},
     "output_type": "execute_result"
    }
   ],
   "source": [
    "# passing two additional arguments price, quantity to calculate total_price.\n",
    "\n",
    "class Cosmetics:\n",
    "    # self keyword: Python passes the object itself as the first argument\n",
    "    # Wrong practise to define a function this way.\n",
    "    def calculate_total_price(self,price,quantity):\n",
    "        return price * quantity\n",
    "# Creating first instance shampoo.\n",
    "shampoo = Cosmetics()\n",
    "shampoo.quantity = 369\n",
    "shampoo.price = 369\n",
    "shampoo.calculate_total_price(shampoo.price,shampoo.quantity)\n",
    "# In background Python passes shampoo instance to the method calculate_total_price as the first argument indicated by 'self' in the method, shampoo.price as the second argument in the place of price, shampoo.quantity as the third argument in the place of quantity."
   ]
  },
  {
   "cell_type": "code",
   "execution_count": null,
   "id": "b0e86688",
   "metadata": {},
   "outputs": [],
   "source": [
    "# A method can be commonly accessed by all instances of a class."
   ]
  },
  {
   "cell_type": "code",
   "execution_count": 61,
   "id": "f18e230d",
   "metadata": {},
   "outputs": [
    {
     "name": "stdout",
     "output_type": "stream",
     "text": [
      "<class '__main__.Cosmetics'>\n",
      "136161\n",
      "<class '__main__.Cosmetics'>\n",
      "308025\n"
     ]
    }
   ],
   "source": [
    "# A method can be commonly accessed by all instances of a class.\n",
    "class Cosmetics:\n",
    "    # self keyword: Python passes the object itself as the first argument\n",
    "    # Wrong practise to define a function this way.\n",
    "    def calculate_total_price(self,price,quantity):\n",
    "        return price * quantity\n",
    "# Creating first instance shampoo.\n",
    "shampoo = Cosmetics()\n",
    "print(type(shampoo))\n",
    "shampoo.quantity = 369\n",
    "shampoo.price = 369\n",
    "print(shampoo.calculate_total_price(shampoo.price,shampoo.quantity))\n",
    "# Creating second instance serum.\n",
    "serum = Cosmetics()\n",
    "serum.quantity = 555\n",
    "serum.price = 555\n",
    "print(type(serum))\n",
    "print(serum.calculate_total_price(serum.price,serum.quantity))"
   ]
  },
  {
   "cell_type": "code",
   "execution_count": null,
   "id": "7fe70da4",
   "metadata": {},
   "outputs": [],
   "source": [
    "#__init__ magic method"
   ]
  },
  {
   "cell_type": "code",
   "execution_count": null,
   "id": "c7b5995e",
   "metadata": {},
   "outputs": [],
   "source": [
    "# Problem 1: One of the problems we have here we dont have a set of rules for attributes.\n",
    "# Each time we create an instance, we hardcode instance.quantity = 369,instance.price = 369 and this is not reusable.\n",
    "# Which means it is better to create a class which would create an instance by receiving the attributes directly.\n",
    "# The attributes must pe passed in order for the instance of a class to be created successfully.\n",
    "# Answer: We need a special method: __init__"
   ]
  },
  {
   "cell_type": "code",
   "execution_count": null,
   "id": "2522b331",
   "metadata": {},
   "outputs": [],
   "source": [
    "#__init__ magic method"
   ]
  },
  {
   "cell_type": "code",
   "execution_count": 65,
   "id": "5f4cd9a5",
   "metadata": {},
   "outputs": [
    {
     "name": "stdout",
     "output_type": "stream",
     "text": [
      "You have created an instance. <__main__.Cosmetics object at 0x00000204B74EAC10>\n",
      "100\n",
      "You have created an instance. <__main__.Cosmetics object at 0x00000204B7CD53A0>\n"
     ]
    }
   ],
   "source": [
    "# Python executes __int__ function automatically when each indtance or object is created.\n",
    "class Cosmetics:\n",
    "    #def __(press tab to see all the special met)\n",
    "    def calculate_total_price(self,price,quantity):\n",
    "        return price * quantity\n",
    "    def __init__(self):\n",
    "        print(\"You have created an instance.\",self)\n",
    "        \n",
    "    # wrongly defined class function.\n",
    "    # self keyword: Python passes the object itself as the first argument\n",
    "    \n",
    "# Creating first instance shampoo.\n",
    "shampoo = Cosmetics()\n",
    "print(shampoo.calculate_total_price(10,10))\n",
    "# Creating second instance serum.\n",
    "serum = Cosmetics()"
   ]
  },
  {
   "cell_type": "code",
   "execution_count": null,
   "id": "c7f5f695",
   "metadata": {},
   "outputs": [],
   "source": [
    "#__init__ magic method"
   ]
  },
  {
   "cell_type": "code",
   "execution_count": 23,
   "id": "7f2314af",
   "metadata": {},
   "outputs": [
    {
     "ename": "TypeError",
     "evalue": "__init__() missing 1 required positional argument: 'name'",
     "output_type": "error",
     "traceback": [
      "\u001b[1;31m---------------------------------------------------------------------------\u001b[0m",
      "\u001b[1;31mTypeError\u001b[0m                                 Traceback (most recent call last)",
      "\u001b[1;32m~\\AppData\\Local\\Temp/ipykernel_12648/1412060058.py\u001b[0m in \u001b[0;36m<module>\u001b[1;34m\u001b[0m\n\u001b[0;32m     10\u001b[0m         \u001b[1;32mreturn\u001b[0m \u001b[0mprice\u001b[0m \u001b[1;33m*\u001b[0m \u001b[0mquantity\u001b[0m\u001b[1;33m\u001b[0m\u001b[1;33m\u001b[0m\u001b[0m\n\u001b[0;32m     11\u001b[0m \u001b[1;31m# Creating first instance shampoo.\u001b[0m\u001b[1;33m\u001b[0m\u001b[1;33m\u001b[0m\u001b[0m\n\u001b[1;32m---> 12\u001b[1;33m \u001b[0mshampoo\u001b[0m \u001b[1;33m=\u001b[0m \u001b[0mCosmetics\u001b[0m\u001b[1;33m(\u001b[0m\u001b[1;33m)\u001b[0m\u001b[1;33m\u001b[0m\u001b[1;33m\u001b[0m\u001b[0m\n\u001b[0m\u001b[0;32m     13\u001b[0m \u001b[1;33m\u001b[0m\u001b[0m\n\u001b[0;32m     14\u001b[0m \u001b[1;31m# Creating second instance serum.\u001b[0m\u001b[1;33m\u001b[0m\u001b[1;33m\u001b[0m\u001b[0m\n",
      "\u001b[1;31mTypeError\u001b[0m: __init__() missing 1 required positional argument: 'name'"
     ]
    }
   ],
   "source": [
    "# Solve problem 1: __init__ method is called automatically when an instance is created.\n",
    "# What Python does when calling a function inside a class it passes the instance itself as a parameter.\n",
    "# So we can also get additional parameters to the function and use it.\n",
    "class Cosmetics:\n",
    "    #def __(press tab to see all the special met)\n",
    "    def __init__(self,name):\n",
    "        print(\"You have created an instance.\",self)\n",
    "    # self keyword: Python passes the object itself as the first argument\n",
    "    \n",
    "    # wrongly defined class function.\n",
    "    def calculate_total_price(self,price,quantity):\n",
    "        return price * quantity\n",
    "# Creating first instance shampoo.\n",
    "shampoo = Cosmetics()\n",
    "# mentioning a parameter you have to pass when calling the class.\n",
    "# Creating second instance serum.\n",
    "serum = Cosmetics()\n",
    "# Error: __init__() missing 1 required positional argument: 'name'"
   ]
  },
  {
   "cell_type": "code",
   "execution_count": null,
   "id": "07f44d6d",
   "metadata": {},
   "outputs": [],
   "source": [
    "#__init__ magic method"
   ]
  },
  {
   "cell_type": "code",
   "execution_count": 66,
   "id": "743cb723",
   "metadata": {},
   "outputs": [
    {
     "name": "stdout",
     "output_type": "stream",
     "text": [
      "You have created an instance:  Shampoo\n",
      "You have created an instance:  Serum\n"
     ]
    }
   ],
   "source": [
    "class Cosmetics:\n",
    "    def __init__(self,name):\n",
    "        print(\"You have created an instance: \",name)\n",
    "        \n",
    "    # wrongly defined class function.    \n",
    "    # self keyword: Python passes the object itself as the first argument\n",
    "    def calculate_total_price(self,price,quantity):\n",
    "        return price * quantity\n",
    "# Creating first instance shampoo.\n",
    "shampoo = Cosmetics(\"Shampoo\")\n",
    "\n",
    "# Creating second instance serum.\n",
    "serum = Cosmetics(\"Serum\")\n",
    "# Works fine!"
   ]
  },
  {
   "cell_type": "code",
   "execution_count": null,
   "id": "25ace44a",
   "metadata": {},
   "outputs": [],
   "source": [
    "# __init__ magic method also known as a constructor of instance attributes.(Own self definition......)"
   ]
  },
  {
   "cell_type": "code",
   "execution_count": 67,
   "id": "2366d29b",
   "metadata": {},
   "outputs": [
    {
     "name": "stdout",
     "output_type": "stream",
     "text": [
      "Shampoo\n",
      "Serum\n"
     ]
    }
   ],
   "source": [
    "# Dynamically assign attributes from magic method __init__\n",
    "class Cosmetics:\n",
    "    def __init__(self,name):\n",
    "        self.name = name # means that the names in the instance passed is equal to the name passed as parameter.\n",
    "        \n",
    "    # self keyword: Python passes the object itself as the first argument\n",
    "    # wrongly defined class function.\n",
    "    def calculate_total_price(self,price,quantity):\n",
    "        return price * quantity\n",
    "# Creating first instance shampoo.\n",
    "shampoo = Cosmetics(\"Shampoo\")\n",
    "\n",
    "# Creating second instance serum.\n",
    "serum = Cosmetics(\"Serum\")\n",
    "\n",
    "print(shampoo.name)\n",
    "print(serum.name)"
   ]
  },
  {
   "cell_type": "code",
   "execution_count": null,
   "id": "3c288f5f",
   "metadata": {},
   "outputs": [],
   "source": [
    "# It is possible to assign a lot of instance attributes to __init__ magic method......"
   ]
  },
  {
   "cell_type": "code",
   "execution_count": 68,
   "id": "da94f0ee",
   "metadata": {},
   "outputs": [
    {
     "name": "stdout",
     "output_type": "stream",
     "text": [
      "<class '__main__.Cosmetics'>\n",
      "Shampoo\n",
      "555\n",
      "555\n",
      " \n",
      "<class '__main__.Cosmetics'>\n",
      "Serum\n",
      "360\n",
      "369\n"
     ]
    }
   ],
   "source": [
    "# We can assign many number of attributes\n",
    "class Cosmetics:\n",
    "    def __init__(self,name,price,quantity):\n",
    "        self.name = name # means that the name in the instance passed is equal to the name passed as parameter.\n",
    "        self.price = price # means that the price in the instance passed is equal to the price passed as parameter.\n",
    "        self.quantity = quantity # means that the quantity in the instance passed is equal to the quantity passed as parameter.\n",
    "    \n",
    "    # wrongly defined class function.\n",
    "    # self keyword: Python passes the object itself as the first argument\n",
    "    def calculate_total_price(self,price,quantity):# mandatory parameters, if not passed while creating an object will raise error.\n",
    "        return price * quantity\n",
    "\n",
    "# Creating first instance shampoo.\n",
    "item_1 = Cosmetics(\"Shampoo\",555,555)\n",
    "\n",
    "# Creating second instance serum.\n",
    "item_2 = Cosmetics(\"Serum\",360,369)\n",
    "\n",
    "print(type(item_1))\n",
    "print(item_1.name)\n",
    "print(item_1.price)\n",
    "print(item_1.quantity)\n",
    "print(\" \")\n",
    "print(type(item_2))\n",
    "print(item_2.name)\n",
    "print(item_2.price)\n",
    "print(item_2.quantity)"
   ]
  },
  {
   "cell_type": "code",
   "execution_count": null,
   "id": "42e0b163",
   "metadata": {},
   "outputs": [],
   "source": [
    "# What are non mandatory parameters in a class, the default value is already assigned for non mandatory parameters."
   ]
  },
  {
   "cell_type": "code",
   "execution_count": 69,
   "id": "25423ddc",
   "metadata": {},
   "outputs": [
    {
     "name": "stdout",
     "output_type": "stream",
     "text": [
      "<class '__main__.Cosmetics'>\n",
      "Shampoo\n",
      "555\n",
      "0\n",
      " \n",
      "<class '__main__.Cosmetics'>\n",
      "Serum\n",
      "360\n",
      "0\n",
      " \n",
      "<class '__main__.Cosmetics'>\n",
      "Shampoo\n",
      "555\n",
      "369\n",
      " \n",
      "<class '__main__.Cosmetics'>\n",
      "Serum\n",
      "360\n",
      "369\n"
     ]
    }
   ],
   "source": [
    "# Non mandatory parameters\n",
    "class Cosmetics:\n",
    "    def __init__(self,name,price,quantity=0): # If you mention a default value it is non mandatory.\n",
    "        self.name = name # means that the name in the instance passed is equal to the name passed as parameter.\n",
    "        self.price = price # means that the price in the instance passed is equal to the price passed as parameter.\n",
    "        self.quantity = quantity # means that the quantity in the instance passed is equal to the quantity passed as parameter.\n",
    "        # mandatory parameters, if not passed while creating an object will raise error.\n",
    "    \n",
    "    # wrongly defined class function.\n",
    "    # self keyword: Python passes the object itself as the first argument\n",
    "    def calculate_total_price(self,price,quantity):\n",
    "        return price * quantity\n",
    "\n",
    "# Creating first instance shampoo.\n",
    "item_1 = Cosmetics(\"Shampoo\",555)\n",
    "\n",
    "# Creating second instance serum.\n",
    "item_2 = Cosmetics(\"Serum\",360)\n",
    "\n",
    "print(type(item_1))\n",
    "print(item_1.name)\n",
    "print(item_1.price)\n",
    "print(item_1.quantity)\n",
    "print(\" \")\n",
    "print(type(item_2))\n",
    "print(item_2.name)\n",
    "print(item_2.price)\n",
    "print(item_2.quantity)\n",
    "print(\" \")\n",
    "# We can over write the default value in non mandotory parameter by passing the values in the instance or objection when creating it.\n",
    "# Creating first instance shampoo.\n",
    "item_1 = Cosmetics(\"Shampoo\",555,369)\n",
    "\n",
    "# Creating second instance serum.\n",
    "item_2 = Cosmetics(\"Serum\",360,369)\n",
    "\n",
    "print(type(item_1))\n",
    "print(item_1.name)\n",
    "print(item_1.price)\n",
    "print(item_1.quantity)\n",
    "print(\" \")\n",
    "print(type(item_2))\n",
    "print(item_2.name)\n",
    "print(item_2.price)\n",
    "print(item_2.quantity)"
   ]
  },
  {
   "cell_type": "code",
   "execution_count": null,
   "id": "9f19654a",
   "metadata": {},
   "outputs": [],
   "source": [
    "# Adding instance attributes after creating an instance. -----possible"
   ]
  },
  {
   "cell_type": "code",
   "execution_count": 70,
   "id": "74a199e4",
   "metadata": {},
   "outputs": [
    {
     "name": "stdout",
     "output_type": "stream",
     "text": [
      "<class '__main__.Cosmetics'>\n",
      "Shampoo\n",
      "555\n",
      "555\n",
      "True\n",
      " \n",
      "<class '__main__.Cosmetics'>\n",
      "Serum\n",
      "360\n",
      "369\n",
      "True\n"
     ]
    }
   ],
   "source": [
    "# We can add other attributes directly even though not present in __init__ constructor.\n",
    "class Cosmetics:\n",
    "    def __init__(self,name,price,quantity):# mandatory parameters, if not passed while creating an object will raise error.\n",
    "        self.name = name # means that the name in the instance passed is equal to the name passed as parameter.\n",
    "        self.price = price # means that the price in the instance passed is equal to the price passed as parameter.\n",
    "        self.quantity = quantity # means that the quantity in the instance passed is equal to the quantity passed as parameter.\n",
    "    \n",
    "    # wrongly defined class function. \n",
    "    # self keyword: Python passes the object itself as the first argument\n",
    "    def calculate_total_price(self,price,quantity):\n",
    "        return price * quantity\n",
    "\n",
    "# Creating first instance shampoo.\n",
    "item_1 = Cosmetics(\"Shampoo\",555,555)\n",
    "item_1.has_good_sales = True # Can add attributes outside as well - generally unique to the particular item.\n",
    "\n",
    "# Creating second instance serum.\n",
    "item_2 = Cosmetics(\"Serum\",360,369)\n",
    "item_2.has_good_sales = True\n",
    "\n",
    "print(type(item_1))\n",
    "print(item_1.name)\n",
    "print(item_1.price)\n",
    "print(item_1.quantity)\n",
    "print(item_1.has_good_sales)\n",
    "print(\" \")\n",
    "print(type(item_2))\n",
    "print(item_2.name)\n",
    "print(item_2.price)\n",
    "print(item_2.quantity)\n",
    "print(item_2.has_good_sales)"
   ]
  },
  {
   "cell_type": "code",
   "execution_count": null,
   "id": "9848c66f",
   "metadata": {},
   "outputs": [],
   "source": [
    "# Use 'self' to define a function and access instance attributes using 'self'......"
   ]
  },
  {
   "cell_type": "code",
   "execution_count": 72,
   "id": "1b13a225",
   "metadata": {},
   "outputs": [
    {
     "name": "stdout",
     "output_type": "stream",
     "text": [
      "308025\n",
      " \n",
      "1000000\n"
     ]
    }
   ],
   "source": [
    "# Correct way to define a class function or method.....\n",
    "class Cosmetics:\n",
    "    def __init__(self,name,price,quantity):# mandatory parameters, if not passed while creating an object will raise error.\n",
    "        self.name = name # means that the name in the instance passed is equal to the name passed as parameter.\n",
    "        self.price = price # means that the price in the instance passed is equal to the price passed as parameter.\n",
    "        self.quantity = quantity # means that the quantity in the instance passed is equal to the quantity passed as parameter.\n",
    "    # When an instance is created the __init__ constructor runs automaticaaly assigning all the attributes for a particular instance.\n",
    "    # rightly defined class function. \n",
    "    # self keyword: Python passes the object itself as the first argument\n",
    "    def calculate_total_price(self): # self denotes that the instance itself is passed as parameter.\n",
    "        return self.price * self.quantity\n",
    "\n",
    "# Creating first instance shampoo.\n",
    "item_1 = Cosmetics(\"Shampoo\",555,555)\n",
    "\n",
    "# Creating second instance serum.\n",
    "item_2 = Cosmetics(\"Serum\",10000,100)\n",
    "\n",
    "print(item_1.calculate_total_price())\n",
    "print(\" \")\n",
    "print(item_2.calculate_total_price())"
   ]
  },
  {
   "cell_type": "code",
   "execution_count": null,
   "id": "c618b117",
   "metadata": {},
   "outputs": [],
   "source": [
    "# Assertions for parameters passed when calling the Class.\n",
    "# Before assigning to self the assertions should be present."
   ]
  },
  {
   "cell_type": "code",
   "execution_count": 73,
   "id": "3c71b700",
   "metadata": {},
   "outputs": [
    {
     "ename": "AssertionError",
     "evalue": "Price should not be less than zero or negative number, not a valid -6",
     "output_type": "error",
     "traceback": [
      "\u001b[1;31m---------------------------------------------------------------------------\u001b[0m",
      "\u001b[1;31mAssertionError\u001b[0m                            Traceback (most recent call last)",
      "\u001b[1;32m~\\AppData\\Local\\Temp/ipykernel_26184/1102953379.py\u001b[0m in \u001b[0;36m<module>\u001b[1;34m\u001b[0m\n\u001b[0;32m     20\u001b[0m \u001b[1;33m\u001b[0m\u001b[0m\n\u001b[0;32m     21\u001b[0m \u001b[1;31m# Creating first instance shampoo.\u001b[0m\u001b[1;33m\u001b[0m\u001b[1;33m\u001b[0m\u001b[0m\n\u001b[1;32m---> 22\u001b[1;33m \u001b[0mitem_1\u001b[0m \u001b[1;33m=\u001b[0m \u001b[0mCosmetics\u001b[0m\u001b[1;33m(\u001b[0m\u001b[1;34m\"Conditioner\"\u001b[0m\u001b[1;33m,\u001b[0m\u001b[1;33m-\u001b[0m\u001b[1;36m6\u001b[0m\u001b[1;33m,\u001b[0m\u001b[1;33m-\u001b[0m\u001b[1;36m9\u001b[0m\u001b[1;33m)\u001b[0m\u001b[1;33m\u001b[0m\u001b[1;33m\u001b[0m\u001b[0m\n\u001b[0m\u001b[0;32m     23\u001b[0m \u001b[0mprint\u001b[0m\u001b[1;33m(\u001b[0m\u001b[0mitem_1\u001b[0m\u001b[1;33m.\u001b[0m\u001b[0mname\u001b[0m\u001b[1;33m)\u001b[0m\u001b[1;33m\u001b[0m\u001b[1;33m\u001b[0m\u001b[0m\n\u001b[0;32m     24\u001b[0m \u001b[0mprint\u001b[0m\u001b[1;33m(\u001b[0m\u001b[0mitem_1\u001b[0m\u001b[1;33m.\u001b[0m\u001b[0mprice\u001b[0m\u001b[1;33m)\u001b[0m\u001b[1;33m\u001b[0m\u001b[1;33m\u001b[0m\u001b[0m\n",
      "\u001b[1;32m~\\AppData\\Local\\Temp/ipykernel_26184/1102953379.py\u001b[0m in \u001b[0;36m__init__\u001b[1;34m(self, name, price, quantity)\u001b[0m\n\u001b[0;32m      6\u001b[0m         \u001b[1;31m#name :str means accept only string for attribute 'name',price: float and quantity: float means accept for the following attributes price and quantity only float.\u001b[0m\u001b[1;33m\u001b[0m\u001b[1;33m\u001b[0m\u001b[0m\n\u001b[0;32m      7\u001b[0m         \u001b[1;31m# Run validation on received arguments.\u001b[0m\u001b[1;33m\u001b[0m\u001b[1;33m\u001b[0m\u001b[0m\n\u001b[1;32m----> 8\u001b[1;33m         \u001b[1;32massert\u001b[0m \u001b[0mprice\u001b[0m \u001b[1;33m>=\u001b[0m \u001b[1;36m0\u001b[0m\u001b[1;33m,\u001b[0m\u001b[1;34m\"Price should not be less than zero or negative number, not a valid {}\"\u001b[0m\u001b[1;33m.\u001b[0m\u001b[0mformat\u001b[0m\u001b[1;33m(\u001b[0m\u001b[0mprice\u001b[0m\u001b[1;33m)\u001b[0m\u001b[1;33m\u001b[0m\u001b[1;33m\u001b[0m\u001b[0m\n\u001b[0m\u001b[0;32m      9\u001b[0m         \u001b[1;32massert\u001b[0m \u001b[0mquantity\u001b[0m \u001b[1;33m>=\u001b[0m \u001b[1;36m0\u001b[0m\u001b[1;33m,\u001b[0m\u001b[1;34m\"Quantity should not be less than zero or negative number, not a valid {}\"\u001b[0m\u001b[1;33m.\u001b[0m\u001b[0mformat\u001b[0m\u001b[1;33m(\u001b[0m\u001b[0mquantity\u001b[0m\u001b[1;33m)\u001b[0m\u001b[1;33m\u001b[0m\u001b[1;33m\u001b[0m\u001b[0m\n\u001b[0;32m     10\u001b[0m         \u001b[1;32massert\u001b[0m \u001b[0mlen\u001b[0m\u001b[1;33m(\u001b[0m\u001b[0mname\u001b[0m\u001b[1;33m)\u001b[0m \u001b[1;33m<=\u001b[0m \u001b[1;36m100\u001b[0m\u001b[1;33m,\u001b[0m\u001b[1;34m\"Name shuld be less than 100 characters, not a valid {}\"\u001b[0m\u001b[1;33m.\u001b[0m\u001b[0mformat\u001b[0m\u001b[1;33m(\u001b[0m\u001b[0mname\u001b[0m\u001b[1;33m)\u001b[0m\u001b[1;33m\u001b[0m\u001b[1;33m\u001b[0m\u001b[0m\n",
      "\u001b[1;31mAssertionError\u001b[0m: Price should not be less than zero or negative number, not a valid -6"
     ]
    }
   ],
   "source": [
    "# Vqlidating data types when creating instances.\n",
    "# We want 'name' attribute to be a string.\n",
    "# We want 'price' attribute and 'quantity' attribute to be float.\n",
    "class Cosmetics:\n",
    "    def __init__(self,name:str,price:float,quantity:float):\n",
    "        #name :str means accept only string for attribute 'name',price: float and quantity: float means accept for the following attributes price and quantity only float.\n",
    "        # Run validation on received arguments.\n",
    "        assert price >= 0,\"Price should not be less than zero or negative number, not a valid {}\".format(price)\n",
    "        assert quantity >= 0,\"Quantity should not be less than zero or negative number, not a valid {}\".format(quantity)\n",
    "        assert len(name) <= 100,\"Name shuld be less than 100 characters, not a valid {}\".format(name)\n",
    "        # Assigning to self object or self instance.\n",
    "        self.name = name \n",
    "        self.price = price \n",
    "        self.quantity = quantity \n",
    "    # When an instance is created the __init__ constructor runs automaticaaly assigning all the attributes for a particular instance.\n",
    "    # rightly defined class function. \n",
    "    # self keyword: Python passes the object itself as the first argument\n",
    "    def calculate_total_price(self): # self denotes that the instance itself is passed as parameter.\n",
    "        return self.price * self.quantity\n",
    "\n",
    "# Creating first instance shampoo.\n",
    "item_1 = Cosmetics(\"Conditioner\",-6,-9)\n",
    "print(item_1.name)\n",
    "print(item_1.price)\n",
    "print(item_1.quantity)\n",
    "# Throws assertion error......"
   ]
  },
  {
   "cell_type": "code",
   "execution_count": null,
   "id": "5bdc9d17",
   "metadata": {},
   "outputs": [],
   "source": [
    "# Assertions for parameters passed when calling the Class.\n",
    "# Before assigning to self the assertions should be present."
   ]
  },
  {
   "cell_type": "code",
   "execution_count": 75,
   "id": "51c3aa99",
   "metadata": {},
   "outputs": [
    {
     "name": "stdout",
     "output_type": "stream",
     "text": [
      "Conditioner\n",
      "6\n",
      "9\n"
     ]
    }
   ],
   "source": [
    "class Cosmetics:\n",
    "    def __init__(self,name:str,price:float,quantity:float):\n",
    "        #name :str means accept only string for attribute 'name',price: float and quantity: float means accept for the following attributes price and quantity only float.\n",
    "        # Run validation on received arguments.\n",
    "        assert price >= 0,\"Price should not be less than zero or negative number, not a valid {}\".format(price)\n",
    "        assert quantity >= 0,\"Quantity should not be less than zero or negative number, not a valid {}\".format(quantity)\n",
    "        assert len(name) <= 100,\"Name shuld be less than 100 characters, not a valid {}\".format(name)\n",
    "        # Assigning to self object or self instance.\n",
    "        # unique attributes for each instance\n",
    "        self.name = name \n",
    "        self.price = price \n",
    "        self.quantity = quantity \n",
    "    # When an instance is created the __init__ constructor runs automaticaaly assigning all the attributes for a particular instance.\n",
    "    # rightly defined class function. \n",
    "    # self keyword: Python passes the object itself as the first argument\n",
    "    def calculate_total_price(self): # self denotes that the instance itself is passed as parameter.\n",
    "        return self.price * self.quantity\n",
    "\n",
    "# Creating first instance shampoo.\n",
    "item_1 = Cosmetics(\"Conditioner\",6,9)\n",
    "print(item_1.name)\n",
    "print(item_1.price)\n",
    "print(item_1.quantity)\n",
    "# Works fine."
   ]
  },
  {
   "cell_type": "code",
   "execution_count": null,
   "id": "a4f69739",
   "metadata": {},
   "outputs": [],
   "source": [
    "# Class attributes in Classes in Python."
   ]
  },
  {
   "cell_type": "code",
   "execution_count": 76,
   "id": "fd7dd0e6",
   "metadata": {},
   "outputs": [
    {
     "name": "stdout",
     "output_type": "stream",
     "text": [
      "0.8\n",
      "0.8\n"
     ]
    }
   ],
   "source": [
    "# Class attributes: Global attributes are known as class attributes.\n",
    "#Example: There is a sale in the Cosmetics shop and the discount is considered a global attribute......\n",
    "class Cosmetics: \n",
    "    # Class atributes defined.....\n",
    "    pay_rate_after_discount = 0.8 # Means 20 % discount so we have to pay 80% of the Mrp. old price: 100, new price =100*0.8=80\n",
    "    def __init__(self,name:str,price:float,quantity:float):\n",
    "        #name :str means accept only string for attribute 'name',price: float and quantity: float means accept for the following attributes price and quantity only float.\n",
    "        # Run validation on received arguments.\n",
    "        assert price >= 0,\"Price should not be less than zero or negative number, not a valid {}\".format(price)\n",
    "        assert quantity >= 0,\"Quantity should not be less than zero or negative number, not a valid {}\".format(quantity)\n",
    "        assert len(name) <= 100,\"Name shuld be less than 100 characters, not a valid {}\".format(name)\n",
    "        # Assigning to self object or self instance.\n",
    "        # Unique attributes for each instance are known as instance attributes.\n",
    "        # Instance attributes......\n",
    "        self.name = name \n",
    "        self.price = price \n",
    "        self.quantity = quantity \n",
    "    # When an instance is created the __init__ constructor runs automaticaaly assigning all the attributes for a particular instance.\n",
    "    # rightly defined class function. \n",
    "    # self keyword: Python passes the object itself as the first argument\n",
    "    def calculate_total_price(self): # self denotes that the instance itself is passed as parameter.\n",
    "        return self.price * self.quantity\n",
    "\n",
    "# Creating first instance shampoo.\n",
    "item_1 = Cosmetics(\"Conditioner\",6,9)\n",
    "\n",
    "# Access class attributes\n",
    "print(Cosmetics.pay_rate_after_discount) # Can be accessed using Class ...... # Works fine......\n",
    "print(item_1.pay_rate_after_discount) # Can be accessed using the created instance also...... # Works fine......\n",
    "\n",
    "#What happens here:\n",
    "# Instance item_1 cannot find the pay_rate_after_discount in instance attributes so finds in class attributes."
   ]
  },
  {
   "cell_type": "code",
   "execution_count": null,
   "id": "6ce12d88",
   "metadata": {},
   "outputs": [],
   "source": [
    "# __dict__ magic method"
   ]
  },
  {
   "cell_type": "code",
   "execution_count": 77,
   "id": "66e9a152",
   "metadata": {},
   "outputs": [
    {
     "name": "stdout",
     "output_type": "stream",
     "text": [
      "All the attributes for Class level:\n",
      "{'__module__': '__main__', 'pay_rate_after_discount': 0.8, '__init__': <function Cosmetics.__init__ at 0x00000204B7DAF1F0>, 'calculate_total_price': <function Cosmetics.calculate_total_price at 0x00000204B7DAF5E0>, '__dict__': <attribute '__dict__' of 'Cosmetics' objects>, '__weakref__': <attribute '__weakref__' of 'Cosmetics' objects>, '__doc__': None}\n",
      " \n",
      "All the attributes for instance level:\n",
      "{'name': 'Conditioner', 'price': 6, 'quantity': 9}\n",
      " \n"
     ]
    }
   ],
   "source": [
    "# To find the attributes belonging to class or object\n",
    "# __dict__ magic attributes converts all the attributes to a dictionary.\n",
    "# Used in debugging.\n",
    "print(\"All the attributes for Class level:\")\n",
    "print(Cosmetics.__dict__) # All the attributes for class level.\n",
    "print(\" \")\n",
    "print(\"All the attributes for instance level:\")\n",
    "print(item_1.__dict__) \n",
    "print(\" \")"
   ]
  },
  {
   "cell_type": "code",
   "execution_count": null,
   "id": "a3f43f28",
   "metadata": {},
   "outputs": [],
   "source": [
    "# # Creating a class function for applying discount with class attribute \"pay_rate_after_discount\"."
   ]
  },
  {
   "cell_type": "code",
   "execution_count": 78,
   "id": "98b64e90",
   "metadata": {},
   "outputs": [
    {
     "name": "stdout",
     "output_type": "stream",
     "text": [
      "Discount pay rate :  0.8\n",
      "Before discount :  10\n",
      "After discount :  8.0\n"
     ]
    }
   ],
   "source": [
    "class Cosmetics: \n",
    "    # Class atributes defined.....\n",
    "    pay_rate_after_discount = 0.8 # Means 20 % discount so we have to pay 80% of the Mrp. old price: 100, new price =100*0.8=80\n",
    "    def __init__(self,name:str,price:float,quantity:float):\n",
    "        #name :str means accept only string for attribute 'name',price: float and quantity: float means accept for the following attributes price and quantity only float.\n",
    "        # Run validation on received arguments.\n",
    "        assert price >= 0,\"Price should not be less than zero or negative number, not a valid {}\".format(price)\n",
    "        assert quantity >= 0,\"Quantity should not be less than zero or negative number, not a valid {}\".format(quantity)\n",
    "        assert len(name) <= 100,\"Name shuld be less than 100 characters, not a valid {}\".format(name)\n",
    "        # Assigning to self object or self instance.\n",
    "        # Unique attributes for each instance are known as instance attributes.\n",
    "        # Instance attributes......\n",
    "        self.name = name \n",
    "        self.price = price \n",
    "        self.quantity = quantity \n",
    "    # When an instance is created the __init__ constructor runs automaticaaly assigning all the attributes for a particular instance.\n",
    "    # rightly defined class function. \n",
    "    # self keyword: Python passes the object itself as the first argument\n",
    "    def calculate_total_price(self): # self denotes that the instance itself is passed as parameter.\n",
    "        return self.price * self.quantity\n",
    "    def discount_price(self):\n",
    "        #self.price = self.price * Cosmetics.pay_rate_after_discount# Accessing class level.\n",
    "        self.price = self.price * self.pay_rate_after_discount # Accessing instance level.\n",
    "    \n",
    "# Creating first instance shampoo.\n",
    "item_1 = Cosmetics(\"Conditioner\",10,9)\n",
    "\n",
    "# Access class attributes\n",
    "print(\"Discount pay rate : \",item_1.pay_rate_after_discount)\n",
    "print(\"Before discount : \",item_1.price)\n",
    "item_1.discount_price()\n",
    "print(\"After discount : \",item_1.price)"
   ]
  },
  {
   "cell_type": "code",
   "execution_count": null,
   "id": "3efbb04b",
   "metadata": {},
   "outputs": [],
   "source": [
    "# Defining the function at class level results in loosing the capabilities of overwriting a class attribute for a particular instance."
   ]
  },
  {
   "cell_type": "code",
   "execution_count": 79,
   "id": "c4439208",
   "metadata": {},
   "outputs": [
    {
     "name": "stdout",
     "output_type": "stream",
     "text": [
      "Conditioner\n",
      "Discount pay rate :  0.8\n",
      "Before discount :  10\n",
      "After discount :  8.0\n",
      "\n",
      "Rose oil\n",
      "Discount pay rate before overwriting:  0.8\n",
      "Discount pay rate after overwriting:  0.7\n",
      "Class pay rate after discount:  0.8\n",
      "Before discount :  100\n",
      "After discount :  80.0\n",
      "Modifying the pay rate discount of the instance does not modify the class attribute pay rate after discount if the function is defined in instance level.\n"
     ]
    }
   ],
   "source": [
    "# Bad idea to change the class attributes for unique cases like for 'oil' the pay rate is 0.5 meaning 50% discount.....\n",
    "# So overwrite the pay rate for only the instance......\n",
    "# Also when defining the function dont access the class attribute from class level rather do it from instance level.\n",
    "# Accessing in the function from class level.\n",
    "# Wrong way......\n",
    "\n",
    "class Cosmetics: \n",
    "    # Class atributes defined.....\n",
    "    pay_rate_after_discount = 0.8 \n",
    "    def __init__(self,name:str,price:float,quantity:float):\n",
    "        assert price >= 0,\"Price should not be less than zero or negative number, not a valid {}\".format(price)\n",
    "        assert quantity >= 0,\"Quantity should not be less than zero or negative number, not a valid {}\".format(quantity)\n",
    "        assert len(name) <= 100,\"Name shuld be less than 100 characters, not a valid {}\".format(name)\n",
    "        # Instance attributes defined......\n",
    "        self.name = name \n",
    "        self.price = price \n",
    "        self.quantity = quantity \n",
    "    def calculate_total_price(self): # self denotes that the instance itself is passed as parameter.\n",
    "        return self.price * self.quantity\n",
    "    def discount_price(self):\n",
    "        self.price = self.price * Cosmetics.pay_rate_after_discount# Accessing class level. # If you use this you cant overwrite for a particular instance.\n",
    "        #self.price = self.price * self.pay_rate_after_discount # Accessing instance level. # use this as it is better\n",
    "    \n",
    "# Creating first instance shampoo.\n",
    "item_1 = Cosmetics(\"Conditioner\",10,9)\n",
    "print(item_1.name)\n",
    "print(\"Discount pay rate : \",item_1.pay_rate_after_discount)\n",
    "print(\"Before discount : \",item_1.price)\n",
    "item_1.discount_price()\n",
    "print(\"After discount : \",item_1.price)\n",
    "\n",
    "print(\"\")\n",
    "# item_2 is an oil and it is 50% discount.\n",
    "# so we can over write the class attribute with the created instance or object.....\n",
    "\n",
    "# Creating second instance oil......\n",
    "item_2 = Cosmetics(\"Rose oil\",100,6)\n",
    "print(item_2.name)\n",
    "print(\"Discount pay rate before overwriting: \",item_2.pay_rate_after_discount)\n",
    "item_2.pay_rate_after_discount = 0.7 # Overwriting the class attribute \"pay_rate_after_discount\"\n",
    "print(\"Discount pay rate after overwriting: \",item_2.pay_rate_after_discount)\n",
    "# But the class pay_rate_after_discount remains the same......\n",
    "print(\"Class pay rate after discount: \",Cosmetics.pay_rate_after_discount)\n",
    "print(\"Before discount : \",item_2.price)\n",
    "item_2.discount_price()\n",
    "print(\"After discount : \",item_2.price)\n",
    "print(\"Modifying the pay rate discount of the instance does not modify the class attribute pay rate after discount if the function is defined in instance level.\")"
   ]
  },
  {
   "cell_type": "code",
   "execution_count": null,
   "id": "0b1aed6a",
   "metadata": {},
   "outputs": [],
   "source": [
    "# Defind the function at instance level to overwrite the attribute for the particular instance."
   ]
  },
  {
   "cell_type": "code",
   "execution_count": 80,
   "id": "aef8f898",
   "metadata": {},
   "outputs": [
    {
     "name": "stdout",
     "output_type": "stream",
     "text": [
      "Conditioner\n",
      "Discount pay rate :  0.8\n",
      "Before discount :  10\n",
      "After discount :  8.0\n",
      "\n",
      "Rose oil\n",
      "Discount pay rate before overwriting:  0.8\n",
      "Discount pay rate after overwriting:  0.7\n",
      "Class pay rate after discount:  0.8\n",
      "Before discount :  100\n",
      "After discount :  70.0\n",
      "Modifying the pay rate discount of the instance does not modify the class attribute pay rate after discount if the function is defined in instance level.\n"
     ]
    }
   ],
   "source": [
    "# Bad idea to change the class attributes for unique cases like for oil the pay rate is 0.5 meaning 50% discount.....\n",
    "# So overwrite the pay rate for only the instance......\n",
    "# Also when defining the function dont access the class attribute from class level rather do it from instance level.\n",
    "# Accessing in the function from instance level.\n",
    "# Right way.\n",
    "class Cosmetics: \n",
    "    # Class atributes defined.....\n",
    "    pay_rate_after_discount = 0.8 \n",
    "    def __init__(self,name:str,price:float,quantity:float):\n",
    "        # Assertions to verify the received attributes.....\n",
    "        assert price >= 0,\"Price should not be less than zero or negative number, not a valid {}\".format(price)\n",
    "        assert quantity >= 0,\"Quantity should not be less than zero or negative number, not a valid {}\".format(quantity)\n",
    "        assert len(name) <= 100,\"Name shuld be less than 100 characters, not a valid {}\".format(name)\n",
    "        # Instance attributes defined......\n",
    "        self.name = name \n",
    "        self.price = price \n",
    "        self.quantity = quantity \n",
    "    def calculate_total_price(self): # self denotes that the instance itself is passed as parameter.\n",
    "        return self.price * self.quantity\n",
    "    def discount_price(self):\n",
    "        #self.price = self.price * Cosmetics.pay_rate_after_discount# Accessing class level. # If you use this you cant overwrite for a particular instance.\n",
    "        self.price = self.price * self.pay_rate_after_discount # Accessing instance level. # use this as it is better\n",
    "    \n",
    "# Creating first instance shampoo.\n",
    "item_1 = Cosmetics(\"Conditioner\",10,9)\n",
    "print(item_1.name)\n",
    "print(\"Discount pay rate : \",item_1.pay_rate_after_discount)\n",
    "print(\"Before discount : \",item_1.price)\n",
    "item_1.discount_price()\n",
    "print(\"After discount : \",item_1.price)\n",
    "\n",
    "print(\"\")\n",
    "# item_2 is an oil and it is 50% discount.\n",
    "# so we can over write the class attribute with the created instance or object.....\n",
    "\n",
    "# Creating second instance oil......\n",
    "item_2 = Cosmetics(\"Rose oil\",100,6)\n",
    "print(item_2.name)\n",
    "print(\"Discount pay rate before overwriting: \",item_2.pay_rate_after_discount)\n",
    "item_2.pay_rate_after_discount = 0.7\n",
    "print(\"Discount pay rate after overwriting: \",item_2.pay_rate_after_discount)\n",
    "# But the class pay_rate_after_discount remains the same......\n",
    "print(\"Class pay rate after discount: \",Cosmetics.pay_rate_after_discount)\n",
    "print(\"Before discount : \",item_2.price)\n",
    "item_2.discount_price()\n",
    "print(\"After discount : \",item_2.price)\n",
    "print(\"Modifying the pay rate discount of the instance does not modify the class attribute pay rate after discount if the function is defined in instance level.\")"
   ]
  },
  {
   "cell_type": "code",
   "execution_count": null,
   "id": "1e86f84a",
   "metadata": {},
   "outputs": [],
   "source": [
    "# Storing the instances created as a list which is defined in Class sttributes."
   ]
  },
  {
   "cell_type": "code",
   "execution_count": 81,
   "id": "91e639e2",
   "metadata": {},
   "outputs": [
    {
     "name": "stdout",
     "output_type": "stream",
     "text": [
      "[<__main__.Cosmetics object at 0x00000204B7CF7EE0>, <__main__.Cosmetics object at 0x00000204B7CF71C0>, <__main__.Cosmetics object at 0x00000204B7CF1D00>, <__main__.Cosmetics object at 0x00000204B7CF74C0>, <__main__.Cosmetics object at 0x00000204B7CF7220>]\n",
      "Conditioner\n",
      "Serum\n",
      "Shampoo\n",
      "Oil\n",
      "Hair colour dye\n",
      "6\n",
      "10\n",
      "3\n",
      "10\n",
      "9\n",
      "9\n",
      "9\n",
      "9\n",
      "9\n",
      "9\n"
     ]
    }
   ],
   "source": [
    "# We can store our created instances in a collection in Python but using a list is a better option as it is changeable, and need not have a unique key like a dictionary in Python programming language......\n",
    "class Cosmetics: \n",
    "    # Class atributes defined.....\n",
    "    pay_rate_after_discount = 0.8 \n",
    "    all_instances_created = []\n",
    "    \n",
    "    def __init__(self,name:str,price:float,quantity:float):\n",
    "        \n",
    "        # Assertions to verify the received attributes.....\n",
    "        assert price >= 0,\"Price should not be less than zero or negative number, not a valid {}\".format(price)\n",
    "        assert quantity >= 0,\"Quantity should not be less than zero or negative number, not a valid {}\".format(quantity)\n",
    "        assert len(name) <= 100,\"Name shuld be less than 100 characters, not a valid {}\".format(name)\n",
    "        \n",
    "        # Instance attributes defined......\n",
    "        self.name = name \n",
    "        self.price = price \n",
    "        self.quantity = quantity \n",
    "        \n",
    "        # Append the instance to the class attribute all_instances_created.\n",
    "        Cosmetics.all_instances_created.append(self) # accessing this attribute at class level.\n",
    "        \n",
    "    def calculate_total_price(self): # self denotes that the instance itself is passed as parameter.\n",
    "        return self.price * self.quantity\n",
    "    def discount_price(self):\n",
    "        #self.price = self.price * Cosmetics.pay_rate_after_discount# Accessing class level. # If you use this you cant overwrite for a particular instance.\n",
    "        self.price = self.price * self.pay_rate_after_discount # Accessing instance level. # use this as it is better\n",
    "    \n",
    "# Creating first instance shampoo.\n",
    "item_1 = Cosmetics(\"Conditioner\",6,9)\n",
    "item_2 = Cosmetics(\"Serum\",10,9)\n",
    "item_3 = Cosmetics(\"Shampoo\",3,9)\n",
    "item_4 = Cosmetics(\"Oil\",10,9)\n",
    "item_5 = Cosmetics(\"Hair colour dye\",9,9)\n",
    "\n",
    "print(Cosmetics.all_instances_created)\n",
    "for instance in Cosmetics.all_instances_created:\n",
    "    print(instance.name)\n",
    "for instance in Cosmetics.all_instances_created:\n",
    "    print(instance.price)\n",
    "for instance in Cosmetics.all_instances_created:\n",
    "    print(instance.quantity)"
   ]
  },
  {
   "cell_type": "code",
   "execution_count": null,
   "id": "4bd39315",
   "metadata": {},
   "outputs": [],
   "source": [
    "# __repr__ magic method"
   ]
  },
  {
   "cell_type": "code",
   "execution_count": 82,
   "id": "310ef440",
   "metadata": {},
   "outputs": [
    {
     "name": "stdout",
     "output_type": "stream",
     "text": [
      "[Cosmetics(Conditioner,9,9), Cosmetics(Serum,9,9), Cosmetics(Shampoo,9,9), Cosmetics(Oil,9,9), Cosmetics(Hair colour dye,9,9)]\n"
     ]
    }
   ],
   "source": [
    "# The list of all instances are not user friendly or understood by developer.\n",
    "# So there is a magic method in Python known as __repr__.\n",
    "# Use it in a function to have control to diplay or not......\n",
    "class Cosmetics: \n",
    "    # Class atributes defined.....\n",
    "    pay_rate_after_discount = 0.8 \n",
    "    all_instances_created = []\n",
    "    \n",
    "    def __init__(self,name:str,price:float,quantity:float):\n",
    "        \n",
    "        # Assertions to verify the received attributes.....\n",
    "        assert price >= 0,\"Price should not be less than zero or negative number, not a valid {}\".format(price)\n",
    "        assert quantity >= 0,\"Quantity should not be less than zero or negative number, not a valid {}\".format(quantity)\n",
    "        assert len(name) <= 100,\"Name shuld be less than 100 characters, not a valid {}\".format(name)\n",
    "        \n",
    "        # Instance attributes defined......\n",
    "        self.name = name \n",
    "        self.price = price \n",
    "        self.quantity = quantity \n",
    "        \n",
    "        # Append the instance to the class attribute all_instances_created.\n",
    "        Cosmetics.all_instances_created.append(self) # accessing this attribute at class level.\n",
    "        \n",
    "    def calculate_total_price(self): # self denotes that the instance itself is passed as parameter.\n",
    "        return self.price * self.quantity\n",
    "    def discount_price(self):\n",
    "        #self.price = self.price * Cosmetics.pay_rate_after_discount# Accessing class level. # If you use this you cant overwrite for a particular instance.\n",
    "        self.price = self.price * self.pay_rate_after_discount # Accessing instance level. # use this as it is better\n",
    "    \n",
    "    def __repr__(self):\n",
    "        # a method which is similar to this __str__\n",
    "        return \"Cosmetics({},{},{})\".format(self.name,self.price,self.quantity)\n",
    "        # It is better to store this way because we can recreate instances easily......\n",
    "        # In short this magic method chanes way we represent instances or objects.\n",
    "# Creating first instance shampoo.\n",
    "item_1 = Cosmetics(\"Conditioner\",9,9)\n",
    "item_2 = Cosmetics(\"Serum\",9,9)\n",
    "item_3 = Cosmetics(\"Shampoo\",9,9)\n",
    "item_4 = Cosmetics(\"Oil\",9,9)\n",
    "item_5 = Cosmetics(\"Hair colour dye\",9,9)\n",
    "\n",
    "print(Cosmetics.all_instances_created)\n",
    "# An instance of a class is also called as an object......"
   ]
  },
  {
   "cell_type": "code",
   "execution_count": 27,
   "id": "b6180926",
   "metadata": {},
   "outputs": [],
   "source": [
    "# \"__str__\" magic method "
   ]
  },
  {
   "cell_type": "code",
   "execution_count": 83,
   "id": "2470b0e5",
   "metadata": {},
   "outputs": [
    {
     "name": "stdout",
     "output_type": "stream",
     "text": [
      "[<__main__.Cosmetics object at 0x00000204B75BE040>, <__main__.Cosmetics object at 0x00000204B75BEEE0>, <__main__.Cosmetics object at 0x00000204B7CD0610>, <__main__.Cosmetics object at 0x00000204B7CD0910>, <__main__.Cosmetics object at 0x00000204B7CD05E0>]\n"
     ]
    }
   ],
   "source": [
    "# Python magic methods __str__ vs __repr__ - understanding it?\n",
    "# What is magic method?\n",
    "# These methods are accessible from each python object.\n",
    "# They either perform action on the Python object or return some useful information from the objects.\n",
    "# A very good example is __init__ magic method used as a constructore which helps us to store instance attributes.\n",
    "# __str__\n",
    "class Cosmetics: \n",
    "    # Class atributes defined.....\n",
    "    pay_rate_after_discount = 0.8 \n",
    "    all_instances_created = []\n",
    "    \n",
    "    def __init__(self,name:str,price:float,quantity:float):\n",
    "        \n",
    "        # Assertions to verify the received attributes.....\n",
    "        assert price >= 0,\"Price should not be less than zero or negative number, not a valid {}\".format(price)\n",
    "        assert quantity >= 0,\"Quantity should not be less than zero or negative number, not a valid {}\".format(quantity)\n",
    "        assert len(name) <= 100,\"Name shuld be less than 100 characters, not a valid {}\".format(name)\n",
    "        \n",
    "        # Instance attributes defined......\n",
    "        self.name = name \n",
    "        self.price = price \n",
    "        self.quantity = quantity \n",
    "        \n",
    "        # Append the instance to the class attribute all_instances_created.\n",
    "        Cosmetics.all_instances_created.append(self) # accessing this attribute at class level.\n",
    "        \n",
    "    def calculate_total_price(self): # self denotes that the instance itself is passed as parameter.\n",
    "        return self.price * self.quantity\n",
    "    def discount_price(self):\n",
    "        #self.price = self.price * Cosmetics.pay_rate_after_discount# Accessing class level. # If you use this you cant overwrite for a particular instance.\n",
    "        self.price = self.price * self.pay_rate_after_discount # Accessing instance level. # use this as it is better\n",
    "    \n",
    "    def __str__(self):\n",
    "        return \"Cosmetics({},{},{})\".format(self.name,self.price,self.quantity)\n",
    "        # By default the object will be represented as strings\n",
    "        # Does not work as expected.\n",
    "# Creating first instance shampoo.\n",
    "item_1 = Cosmetics(\"Conditioner\",9,9)\n",
    "item_2 = Cosmetics(\"Serum\",9,9)\n",
    "item_3 = Cosmetics(\"Shampoo\",9,9)\n",
    "item_4 = Cosmetics(\"Oil\",9,9)\n",
    "item_5 = Cosmetics(\"Hair colour dye\",9,9)\n",
    "\n",
    "print(Cosmetics.all_instances_created)\n",
    "# better to avod this magic method......"
   ]
  },
  {
   "cell_type": "code",
   "execution_count": 84,
   "id": "f9660ebf",
   "metadata": {},
   "outputs": [
    {
     "name": "stdout",
     "output_type": "stream",
     "text": [
      "6\n",
      "Five\n"
     ]
    }
   ],
   "source": [
    "# __str__ magic method is priotized first so we can filter some conditions, lets see a new example.\n",
    "class IntegerValidation:\n",
    "    def __init__(self,number):\n",
    "        self.number = number\n",
    "        \n",
    "    # use __repr__ for saved lists in Class attributes in classes.\n",
    "    def __repr__(self):\n",
    "        return 'IntegerValidation({})'.format(self.number)\n",
    "    # __str__ is given priority\n",
    "    def __str__(self):\n",
    "        if self.number == 5:\n",
    "            return \"Five\"\n",
    "        else:\n",
    "            return str(self.number)\n",
    "        # Can only return strings, used for bautifying purposes.\n",
    "        # Prioritised before __repr__ magic method.\n",
    "    \n",
    "int_1 = IntegerValidation(6)\n",
    "print(int_1) # prints from __str__ because __str__ is priority\n",
    "int_2 = IntegerValidation(5)\n",
    "print(int_2)"
   ]
  },
  {
   "cell_type": "code",
   "execution_count": null,
   "id": "6fc8582d",
   "metadata": {},
   "outputs": [],
   "source": [
    "# Part 2"
   ]
  },
  {
   "cell_type": "code",
   "execution_count": null,
   "id": "152214ec",
   "metadata": {},
   "outputs": [],
   "source": [
    "# CSV - Comma operated values _ Table structure format in classes......\n",
    "# I have a CSV file in the folder. (data.csv)\n",
    "# Read csv data from the same folder."
   ]
  },
  {
   "cell_type": "markdown",
   "id": "75ba957c",
   "metadata": {},
   "source": [
    "##### Creating Class methods in Python."
   ]
  },
  {
   "cell_type": "code",
   "execution_count": 31,
   "id": "ae2e63fd",
   "metadata": {},
   "outputs": [],
   "source": [
    "# To work with csv import csv library - much convenient rather using other ways.\n",
    "# Even pandas handle csv better.\n",
    "import csv"
   ]
  },
  {
   "cell_type": "code",
   "execution_count": 32,
   "id": "3c0fb33c",
   "metadata": {},
   "outputs": [],
   "source": [
    "# Creating a list of instances from a csv file......\n",
    "class Cosmetics: \n",
    "    # Class atributes defined.....\n",
    "    pay_rate_after_discount = 0.8 \n",
    "    all_instances_created = []\n",
    "    \n",
    "    def __init__(self,name:str,price:float,quantity:float):\n",
    "        \n",
    "        # Assertions to verify the received attributes.....\n",
    "        assert price >= 0,\"Price should not be less than zero or negative number, not a valid {}\".format(price)\n",
    "        assert quantity >= 0,\"Quantity should not be less than zero or negative number, not a valid {}\".format(quantity)\n",
    "        assert len(name) <= 100,\"Name shuld be less than 100 characters, not a valid {}\".format(name)\n",
    "        \n",
    "        # Instance attributes defined......\n",
    "        self.name = name \n",
    "        self.price = price \n",
    "        self.quantity = quantity \n",
    "        \n",
    "        # Append the instance to the class attribute all_instances_created.\n",
    "        Cosmetics.all_instances_created.append(self) # accessing this attribute at class level.\n",
    "        \n",
    "    def calculate_total_price(self): # self denotes that the instance itself is passed as parameter.\n",
    "        return self.price * self.quantity\n",
    "    def discount_price(self):\n",
    "        self.price = self.price * self.pay_rate_after_discount # Accessing instance level. # use this as it is better.\n",
    "    def __repr__(self):\n",
    "        return \"Cosmetics({},{},{})\".format(self.name,self.price,self.quantity)\n",
    "    \n",
    "    # class method \n",
    "    # In order to convert to a class method we should use a decorator @classmethod.\n",
    "    # Decorators in python are just a quick way to change the behaviour of the functions in Python.\n",
    "    # Just before the line we define our function.\n",
    "    # Class method passed the class as a reference that is why we pass cls.\n",
    "    @classmethod\n",
    "    def read_from_csv_file(cls): # Class object itself is passed as the first argument in the background......\n",
    "        instances = []\n",
    "        with open('data.csv','r') as file: # This line of code reads the file and stores it in file.\n",
    "            read_dict = csv.DictReader(file) # Converts the data as dictionary.\n",
    "            items = list(read_dict)\n",
    "        for item in items:\n",
    "            instance = Cosmetics(name = str(item.get('name')),price = float(item.get('price')),quantity = float(item.get('quantity')))\n",
    "            instances.append(instance)\n",
    "        return instances"
   ]
  },
  {
   "cell_type": "code",
   "execution_count": 33,
   "id": "61ef798c",
   "metadata": {},
   "outputs": [],
   "source": [
    "instances_Cosmetics = Cosmetics.read_from_csv_file()"
   ]
  },
  {
   "cell_type": "code",
   "execution_count": 34,
   "id": "d54df91d",
   "metadata": {},
   "outputs": [
    {
     "data": {
      "text/plain": [
       "[Cosmetics(Conditioner,9.0,9.0),\n",
       " Cosmetics(Serum,9.0,9.0),\n",
       " Cosmetics(Shampoo,9.0,9.0),\n",
       " Cosmetics(Oil,9.0,9.0),\n",
       " Cosmetics(Hair colour dye,9.0,9.0)]"
      ]
     },
     "execution_count": 34,
     "metadata": {},
     "output_type": "execute_result"
    }
   ],
   "source": [
    "instances_Cosmetics"
   ]
  },
  {
   "cell_type": "markdown",
   "id": "47ddaa2a",
   "metadata": {},
   "source": [
    "##### Class Vs Static Methods in Python"
   ]
  },
  {
   "cell_type": "code",
   "execution_count": null,
   "id": "12b9eb6f",
   "metadata": {},
   "outputs": [],
   "source": [
    "# Static methods in Python......"
   ]
  },
  {
   "cell_type": "code",
   "execution_count": 35,
   "id": "ca04a0f2",
   "metadata": {},
   "outputs": [],
   "source": [
    "class Cosmetics: \n",
    "    # Class atributes defined.....\n",
    "    pay_rate_after_discount = 0.8 \n",
    "    all_instances_created = []\n",
    "    \n",
    "    def __init__(self,name:str,price:float,quantity:float):\n",
    "        \n",
    "        # Assertions to verify the received attributes.....\n",
    "        assert price >= 0,\"Price should not be less than zero or negative number, not a valid {}\".format(price)\n",
    "        assert quantity >= 0,\"Quantity should not be less than zero or negative number, not a valid {}\".format(quantity)\n",
    "        assert len(name) <= 100,\"Name shuld be less than 100 characters, not a valid {}\".format(name)\n",
    "        \n",
    "        # Instance attributes defined......\n",
    "        self.name = name \n",
    "        self.price = price \n",
    "        self.quantity = quantity \n",
    "        \n",
    "        # Append the instance to the class attribute all_instances_created.\n",
    "        Cosmetics.all_instances_created.append(self) # accessing this attribute at class level.\n",
    "        \n",
    "    def calculate_total_price(self): \n",
    "        return self.price * self.quantity\n",
    "    def discount_price(self):\n",
    "        self.price = self.price * self.pay_rate_after_discount\n",
    "    def __repr__(self):\n",
    "        return \"Cosmetics({},{},{})\".format(self.name,self.price,self.quantity)\n",
    "    # Class method passed the class as a reference that is why we pass cls.\n",
    "    @classmethod\n",
    "    def read_from_csv_file(cls): # Class object itself is passed as the first argument in the background......\n",
    "        instances = []\n",
    "        with open('data.csv','r') as file: # This line of code reads the file and stores it in file.\n",
    "            read_dict = csv.DictReader(file) # Converts the data as dictionary.\n",
    "            items = list(read_dict)\n",
    "        for item in items:\n",
    "            instance = Cosmetics(name = item.get('name'),price = float(item.get('price')),quantity = float(item.get('quantity')))\n",
    "            instances.append(instance)\n",
    "        return instances\n",
    "     # static method \n",
    "    # In order to convert to a class method we should use a decorator @staticmethod.\n",
    "    # Decorators in python are just a quick way to change the behaviour of the functions in Python.\n",
    "    # Just before the line we define our function.# Class method passed the class as a reference that is why we pass cls.\n",
    "    # Static method has no reference.\n",
    "    @staticmethod\n",
    "    def is_float_verify(num):\n",
    "        if isinstance(num,float):\n",
    "            return True\n",
    "        else:\n",
    "            return False"
   ]
  },
  {
   "cell_type": "code",
   "execution_count": 30,
   "id": "037ea935",
   "metadata": {},
   "outputs": [
    {
     "data": {
      "text/plain": [
       "True"
      ]
     },
     "execution_count": 30,
     "metadata": {},
     "output_type": "execute_result"
    }
   ],
   "source": [
    "# Access a static method\n",
    "Cosmetics.is_float_verify(3.69)"
   ]
  },
  {
   "cell_type": "code",
   "execution_count": 36,
   "id": "56407012",
   "metadata": {},
   "outputs": [],
   "source": [
    "item = Cosmetics(\"Serum\",9.0,9.0)"
   ]
  },
  {
   "cell_type": "code",
   "execution_count": 37,
   "id": "581e5854",
   "metadata": {},
   "outputs": [
    {
     "data": {
      "text/plain": [
       "True"
      ]
     },
     "execution_count": 37,
     "metadata": {},
     "output_type": "execute_result"
    }
   ],
   "source": [
    "# Cant be accessed in an instance.\n",
    "item.is_float_verify(5.6)"
   ]
  },
  {
   "cell_type": "markdown",
   "id": "920812ca",
   "metadata": {},
   "source": [
    "###### When to use class methods and when to use static methods ?"
   ]
  },
  {
   "cell_type": "code",
   "execution_count": 51,
   "id": "654e6763",
   "metadata": {},
   "outputs": [],
   "source": [
    "class Example:\n",
    "    @staticmethod\n",
    "    def is_number():\n",
    "        print(\"nothing\")\n",
    "    def __init__(self,name):\n",
    "        self.name = name\n"
   ]
  },
  {
   "cell_type": "code",
   "execution_count": 52,
   "id": "76938705",
   "metadata": {},
   "outputs": [
    {
     "name": "stdout",
     "output_type": "stream",
     "text": [
      "nothing\n"
     ]
    }
   ],
   "source": [
    "item = Example(\"Arjun\")\n",
    "item.is_number()"
   ]
  },
  {
   "cell_type": "code",
   "execution_count": 40,
   "id": "69f0e153",
   "metadata": {},
   "outputs": [
    {
     "name": "stdout",
     "output_type": "stream",
     "text": [
      "nothing\n"
     ]
    }
   ],
   "source": [
    "Example.is_number()"
   ]
  },
  {
   "cell_type": "code",
   "execution_count": null,
   "id": "5be59e4b",
   "metadata": {},
   "outputs": [],
   "source": [
    "Example."
   ]
  },
  {
   "cell_type": "code",
   "execution_count": 53,
   "id": "496e674f",
   "metadata": {},
   "outputs": [],
   "source": [
    "class Grocery:\n",
    "    @staticmethod\n",
    "    def is_num(number):\n",
    "        # Static method should do something that has a relationship with class but not something unique to an instance.....\n",
    "        pass\n",
    "    @classmethod\n",
    "    def instantiate_from_something(cls):\n",
    "        # Class methods should have a relationship with the class.\n",
    "        # Used to manipulate different structure or instantiate objects.\n",
    "        # Previous csv example\n",
    "        # We can use json file, yaml file etc.\n",
    "        pass\n",
    "    # The only difference is static method neither passes self or cls as first parameter when class method passes cls as the first parameter."
   ]
  },
  {
   "cell_type": "code",
   "execution_count": 54,
   "id": "b2a26e6a",
   "metadata": {},
   "outputs": [],
   "source": [
    "# Always call static and class method with Class. - Best practise......\n",
    "Grocery.instantiate_from_something() # calling class method......\n",
    "Grocery.is_num(7)# calling static method....."
   ]
  },
  {
   "cell_type": "code",
   "execution_count": 55,
   "id": "7af04d2f",
   "metadata": {},
   "outputs": [],
   "source": [
    "# Although it can be called with instances. - Wrong practise.....\n",
    "# It is not logicall appealing.\n",
    "item_1 = Grocery()\n",
    "item_1.instantiate_from_something() # calling class method......\n",
    "item_1.is_num(7)# calling static method....."
   ]
  },
  {
   "cell_type": "markdown",
   "id": "93e16f41",
   "metadata": {},
   "source": [
    "##### Overview of Instance, class and static methods"
   ]
  },
  {
   "cell_type": "code",
   "execution_count": null,
   "id": "4b1a6b47",
   "metadata": {},
   "outputs": [],
   "source": [
    "# What is a instance method?\n",
    "# Instance Methods - Points to remember\n",
    "# The instance method takes one parameter, 'self'.\n",
    "# 'self' helps to pass the unique particular instance of the class and dynamically used.\n",
    "# Through the self parameter all the instance attributes,other instance methods can be  accessed and even the class attributes can also be accessed.\n",
    "# Primarily instance methods are used to modify the state of the Object or instance.\n",
    "# Instance method can modify class state as well by  self.__class__ attribute.\n",
    "# We already know instance can access  the class attributes and whwtever changes it does affects only that unique instance."
   ]
  },
  {
   "cell_type": "code",
   "execution_count": null,
   "id": "a8da4590",
   "metadata": {},
   "outputs": [],
   "source": [
    "# What is a class method?\n",
    "# @classmethod decorator is used to flag a class method.\n",
    "# Instead of 'self' parameter class methods take class parameter normally denoted by 'cls'.\n",
    "# So cls points to the class itself and not to the object or instance created.\n",
    "# When the method is called the class is passed as a reference as a parameter 'cls'......\n",
    "# Though class methods cant modify the instances directly altering the entire class state alters the state for all the objects or instances created,"
   ]
  },
  {
   "cell_type": "code",
   "execution_count": null,
   "id": "1cd07cae",
   "metadata": {},
   "outputs": [],
   "source": [
    "# What is static method?\n",
    "# @staticmethod decorator is used to flag it as a static method.\n",
    "# It takes neither 'self' nor 'cls' as the first parameter.\n",
    "# It accepts any arbitrary number of parameters like normal functions do.....\n",
    "# Static methods cant modify both the class state or object state.\n",
    "# Static methods have restrictions to data they can access."
   ]
  },
  {
   "cell_type": "code",
   "execution_count": null,
   "id": "fc4da053",
   "metadata": {},
   "outputs": [],
   "source": [
    "# Read: https://realpython.com/instance-class-and-static-methods-demystified/"
   ]
  },
  {
   "cell_type": "markdown",
   "id": "b95ceb52",
   "metadata": {},
   "source": [
    "##### Inheritance in OOPS"
   ]
  },
  {
   "cell_type": "code",
   "execution_count": null,
   "id": "88d0c4aa",
   "metadata": {},
   "outputs": [],
   "source": [
    "# super function"
   ]
  },
  {
   "cell_type": "code",
   "execution_count": null,
   "id": "83874168",
   "metadata": {},
   "outputs": [],
   "source": [
    "# Example 1"
   ]
  },
  {
   "cell_type": "code",
   "execution_count": null,
   "id": "b8fb6fce",
   "metadata": {},
   "outputs": [],
   "source": [
    "class Aeroplane: #parent class\n",
    "    def __init__(self, name, manufacturer):\n",
    "        self.name = name \n",
    "        self.manufacturer = manufacturer \n",
    "    # instance method......\n",
    "    def description(self):                \n",
    "        return f\"The {self.name} aeroplane is made by the manufacturer {self.manufacturer}.\"\n",
    "\n",
    "class Boeing(Aeroplane):#child class\n",
    "    pass\n",
    "\n",
    "class Airbus(Aeroplane):#child class\n",
    "    pass"
   ]
  },
  {
   "cell_type": "code",
   "execution_count": 64,
   "id": "15f819fe",
   "metadata": {},
   "outputs": [],
   "source": [
    "class Item: #Parent class\n",
    "    # Class atributes defined.....\n",
    "    pay_rate_after_discount = 0.8 \n",
    "    all_instances_created = []\n",
    "    def __init__(self,name:str,price:float,quantity:float):\n",
    "        # Assertions to verify the received attributes.....\n",
    "        assert price >= 0,\"Price should not be less than zero or negative number, not a valid {}\".format(price)\n",
    "        assert quantity >= 0,\"Quantity should not be less than zero or negative number, not a valid {}\".format(quantity)\n",
    "        assert len(name) <= 100,\"Name shuld be less than 100 characters, not a valid {}\".format(name)\n",
    "        \n",
    "        # Instance attributes defined......\n",
    "        self.name = name \n",
    "        self.price = price \n",
    "        self.quantity = quantity \n",
    "        \n",
    "        # Append the instance to the class attribute all_instances_created.\n",
    "        Item.all_instances_created.append(self) # accessing this attribute at class level.\n",
    "        \n",
    "    def calculate_total_price(self): \n",
    "        return self.price * self.quantity\n",
    "    def discount_price(self):\n",
    "        self.price = self.price * self.pay_rate_after_discount\n",
    "    def __repr__(self):\n",
    "        return \"{}({},{},{})\".format(self.__class__.__name__,self.name,self.price,self.quantity)\n",
    "    @classmethod\n",
    "    def read_from_csv_file(cls): # Class object itself is passed as the first argument in the background......\n",
    "        instances = []\n",
    "        with open('data.csv','r') as file: # This line of code reads the file and stores it in file.\n",
    "            read_dict = csv.DictReader(file) # Converts the data as dictionary.\n",
    "            items = list(read_dict)\n",
    "        for item in items:\n",
    "            instance = Phone(name = item.get('name'),price = float(item.get('price')),quantity = float(item.get('quantity')))\n",
    "            instances.append(instance)\n",
    "        return instances\n",
    "    @staticmethod\n",
    "    def is_float_verify(num):\n",
    "        if isinstance(num,float):\n",
    "            return True\n",
    "        else:\n",
    "            return False"
   ]
  },
  {
   "cell_type": "code",
   "execution_count": 65,
   "id": "ff0ce002",
   "metadata": {},
   "outputs": [],
   "source": [
    "class Cell(Item): # child class of Item\n",
    "    def __init__(self,name:str,price:float,quantity:float=0,damaged_cell:float=0): \n",
    "        # name:str,price:float,quantity:float=0,damaged_cell:float=0 duplication - answer key worded arguments......\n",
    "        # Call super function to access the class attributes/ methods of Item.\n",
    "        super().__init__(\n",
    "            name,price,quantity\n",
    "        )\n",
    "        # Assertions to verify the received attributes.....\n",
    "        # mention assertions that are unique to class Cell while others are inherited from class Item.\n",
    "        assert damaged_cell>=0,\"Damaged cell :  {}\".format(damaged_cell)\n",
    "        # Instance attributes defined...... unique to only class MobilePhone......\n",
    "        self.damaged_cell = damaged_cell\n",
    "        # Actions, we dont need all attribute in child class because we have acces to it  from Parent class.....\n",
    "        #Cell.all.append(self)\n",
    "    # overwriting the parent class __repr__ .....\n",
    "    def __repr__(self):\n",
    "        return \"{}({},{},{},{})\".format(self.__class__.__name__,self.name,self.price,self.quantity,self.damaged_cell)"
   ]
  },
  {
   "cell_type": "code",
   "execution_count": 66,
   "id": "baa789e1",
   "metadata": {},
   "outputs": [],
   "source": [
    "cell_1 = Cell(\"Oppo 100\",6,6,9)\n",
    "cell_2 = Cell(\"Android 200\",6,6,9)"
   ]
  },
  {
   "cell_type": "code",
   "execution_count": 67,
   "id": "fcc63b81",
   "metadata": {},
   "outputs": [
    {
     "name": "stdout",
     "output_type": "stream",
     "text": [
      "Cell(Oppo 100,6,6,9)\n",
      "Cell(Android 200,6,6,9)\n",
      "9\n",
      "9\n"
     ]
    }
   ],
   "source": [
    "print(cell_1)\n",
    "print(cell_2)\n",
    "print(cell_1.damaged_cell)\n",
    "print(cell_2.damaged_cell)"
   ]
  },
  {
   "cell_type": "code",
   "execution_count": 68,
   "id": "d8bbe28f",
   "metadata": {},
   "outputs": [
    {
     "name": "stdout",
     "output_type": "stream",
     "text": [
      "<class '__main__.Cell'>\n",
      "<class '__main__.Cell'>\n"
     ]
    }
   ],
   "source": [
    "print(type(cell_1))\n",
    "print(type(cell_2))"
   ]
  },
  {
   "cell_type": "code",
   "execution_count": 69,
   "id": "97be39b5",
   "metadata": {},
   "outputs": [
    {
     "name": "stdout",
     "output_type": "stream",
     "text": [
      "36\n",
      "36\n"
     ]
    }
   ],
   "source": [
    "# Trying methods from parent class\n",
    "print(cell_1.calculate_total_price())\n",
    "print(cell_2.calculate_total_price())"
   ]
  },
  {
   "cell_type": "code",
   "execution_count": 70,
   "id": "10615606",
   "metadata": {},
   "outputs": [
    {
     "data": {
      "text/plain": [
       "[Cell(Oppo 100,6,6,9), Cell(Android 200,6,6,9)]"
      ]
     },
     "execution_count": 70,
     "metadata": {},
     "output_type": "execute_result"
    }
   ],
   "source": [
    "Item.all_instances_created"
   ]
  },
  {
   "cell_type": "code",
   "execution_count": 71,
   "id": "67e5b2a5",
   "metadata": {},
   "outputs": [
    {
     "data": {
      "text/plain": [
       "[Cell(Oppo 100,6,6,9), Cell(Android 200,6,6,9)]"
      ]
     },
     "execution_count": 71,
     "metadata": {},
     "output_type": "execute_result"
    }
   ],
   "source": [
    "Cell.all_instances_created"
   ]
  },
  {
   "cell_type": "code",
   "execution_count": 72,
   "id": "93db2bda",
   "metadata": {},
   "outputs": [
    {
     "name": "stdout",
     "output_type": "stream",
     "text": [
      "[Cell(Oppo 100,6,6,9), Cell(Android 200,6,6,9)]\n"
     ]
    }
   ],
   "source": [
    "print(Cell.all_instances_created)"
   ]
  },
  {
   "cell_type": "markdown",
   "id": "24d53b5a",
   "metadata": {},
   "source": [
    "##### Getters and Setters"
   ]
  },
  {
   "cell_type": "code",
   "execution_count": null,
   "id": "e945593f",
   "metadata": {},
   "outputs": [],
   "source": [
    "# Encapsulation"
   ]
  },
  {
   "cell_type": "code",
   "execution_count": 102,
   "id": "c2b8012a",
   "metadata": {},
   "outputs": [],
   "source": [
    "cell_1 = Cell(\"Oppo 100\",6,6,9)\n",
    "cell_1.name = \"NOKIA 259\""
   ]
  },
  {
   "cell_type": "code",
   "execution_count": 103,
   "id": "ce8cdc67",
   "metadata": {},
   "outputs": [
    {
     "name": "stdout",
     "output_type": "stream",
     "text": [
      "Cell(NOKIA 259,6,6,9)\n"
     ]
    }
   ],
   "source": [
    "print(cell_1) # this will overwrite #so it is not encapsulated........."
   ]
  },
  {
   "cell_type": "code",
   "execution_count": null,
   "id": "08a6323f",
   "metadata": {},
   "outputs": [],
   "source": [
    "# Restricting the users to overwrite the instance attributes after initialisation."
   ]
  },
  {
   "cell_type": "code",
   "execution_count": null,
   "id": "f050aaac",
   "metadata": {},
   "outputs": [],
   "source": [
    "# Decorators in python are like function that preexecutes before other functions......"
   ]
  },
  {
   "cell_type": "code",
   "execution_count": 73,
   "id": "8d075363",
   "metadata": {},
   "outputs": [],
   "source": [
    "# Creating read only attributes.........\n",
    "class Item: #Parent class\n",
    "    # Class atributes defined.....\n",
    "    pay_rate_after_discount = 0.8 \n",
    "    all_instances_created = []\n",
    "    def __init__(self,name:str,price:float,quantity:float):\n",
    "        # Assertions to verify the received attributes.....\n",
    "        assert price >= 0,\"Price should not be less than zero or negative number, not a valid {}\".format(price)\n",
    "        assert quantity >= 0,\"Quantity should not be less than zero or negative number, not a valid {}\".format(quantity)\n",
    "        assert len(name) <= 100,\"Name shuld be less than 100 characters, not a valid {}\".format(name)\n",
    "        \n",
    "        # Instance attributes defined......\n",
    "        self.__name = name \n",
    "        self.__price = price \n",
    "        self.__quantity = quantity \n",
    "        \n",
    "        # Append the instance to the class attribute all_instances_created.\n",
    "        Item.all_instances_created.append(self) # accessing this attribute at class level.\n",
    "        \n",
    "    @property\n",
    "    # property decorator means read only attribute\n",
    "    def name(self):\n",
    "        return self.__name ## __name means Private instance attribute.........\n",
    "    @property\n",
    "    # property decorator means read only attribute\n",
    "    def price(self):\n",
    "        return self.__price ## __name means Private instance attribute.........\n",
    "    @property\n",
    "    # property decorator means read only attribute\n",
    "    def quantity(self):\n",
    "        return self.__quantity ## __name means Private instance attribute.........\n",
    "    \n",
    "    @name.setter\n",
    "    def name(self,value):\n",
    "        self.__name = value\n",
    "    @quantity.setter\n",
    "    def quantity(self,value):\n",
    "        if value == 0:\n",
    "            raise Exception(\"Value should not be Zero.........\")\n",
    "        else:\n",
    "            self.__quantity = value\n",
    "    \n",
    "    def calculate_total_price(self): \n",
    "        return self.__price * self.__quantity\n",
    "    def discount_price(self):\n",
    "        self.__price = self.__price * self.pay_rate_after_discount\n",
    "    def __repr__(self):\n",
    "        return \"{}({},{},{})\".format(self.__class__.__name__,self.name,self.price,self.quantity)\n",
    "    @classmethod\n",
    "    def read_from_csv_file(cls): # Class object itself is passed as the first argument in the background......\n",
    "        instances = []\n",
    "        with open('data.csv','r') as file: # This line of code reads the file and stores it in file.\n",
    "            read_dict = csv.DictReader(file) # Converts the data as dictionary.\n",
    "            items = list(read_dict)\n",
    "        for item in items:\n",
    "            instance = Phone(name = item.get('name'),price = float(item.get('price')),quantity = float(item.get('quantity')))\n",
    "            instances.append(instance)\n",
    "        return instances\n",
    "    @staticmethod\n",
    "    def is_float_verify(num):\n",
    "        if isinstance(num,float):\n",
    "            return True\n",
    "        else:\n",
    "            return False"
   ]
  },
  {
   "cell_type": "code",
   "execution_count": 75,
   "id": "bd1c789d",
   "metadata": {},
   "outputs": [],
   "source": [
    "class Cell(Item): # child class of Item\n",
    "    def __init__(self,name:str,price:float,quantity:float=0,damaged_cell:float=0): \n",
    "        # name:str,price:float,quantity:float=0,damaged_cell:float=0 duplication - answer key worded arguments......\n",
    "        # Call super function to access the class attributes/ methods of Item.\n",
    "        super().__init__(\n",
    "            name,price,quantity\n",
    "        )\n",
    "        # Assertions to verify the received attributes.....\n",
    "        # mention assertions that are unique to class Cell while others are inherited from class Item.\n",
    "        assert damaged_cell>=0,\"Damaged cell :  {}\".format(damaged_cell)\n",
    "        # Instance attributes defined...... unique to only class MobilePhone......\n",
    "        self.damaged_cell = damaged_cell\n",
    "        # Actions, we dont need all attribute in child class because we have acces to it  from Parent class.....\n",
    "        #Cell.all.append(self)\n",
    "    # overwriting the parent class __repr__ .....\n",
    "    def __repr__(self):\n",
    "        return \"{}({},{},{},{})\".format(self.__class__.__name__,self.name,self.price,self.quantity,self.damaged_cell)"
   ]
  },
  {
   "cell_type": "code",
   "execution_count": 76,
   "id": "ed9bc324",
   "metadata": {},
   "outputs": [],
   "source": [
    "cell_1 = Cell(\"Oppo 100\",6,6,9)"
   ]
  },
  {
   "cell_type": "code",
   "execution_count": 77,
   "id": "74c6b1b6",
   "metadata": {},
   "outputs": [
    {
     "name": "stdout",
     "output_type": "stream",
     "text": [
      "Oppo 100\n"
     ]
    }
   ],
   "source": [
    "print(cell_1.name)"
   ]
  },
  {
   "cell_type": "code",
   "execution_count": 78,
   "id": "301915d9",
   "metadata": {},
   "outputs": [],
   "source": [
    "cell_1.name = \"NOKIA 259\""
   ]
  },
  {
   "cell_type": "code",
   "execution_count": 79,
   "id": "79a2bf15",
   "metadata": {},
   "outputs": [
    {
     "name": "stdout",
     "output_type": "stream",
     "text": [
      "NOKIA 259\n"
     ]
    }
   ],
   "source": [
    "print(cell_1.name)"
   ]
  },
  {
   "cell_type": "code",
   "execution_count": 80,
   "id": "02e997e9",
   "metadata": {},
   "outputs": [
    {
     "name": "stdout",
     "output_type": "stream",
     "text": [
      "6\n"
     ]
    }
   ],
   "source": [
    "print(cell_1.price)"
   ]
  },
  {
   "cell_type": "code",
   "execution_count": 81,
   "id": "65b667ad",
   "metadata": {},
   "outputs": [
    {
     "ename": "AttributeError",
     "evalue": "can't set attribute",
     "output_type": "error",
     "traceback": [
      "\u001b[1;31m---------------------------------------------------------------------------\u001b[0m",
      "\u001b[1;31mAttributeError\u001b[0m                            Traceback (most recent call last)",
      "\u001b[1;32m~\\AppData\\Local\\Temp/ipykernel_10760/618635146.py\u001b[0m in \u001b[0;36m<module>\u001b[1;34m\u001b[0m\n\u001b[1;32m----> 1\u001b[1;33m \u001b[0mcell_1\u001b[0m\u001b[1;33m.\u001b[0m\u001b[0mprice\u001b[0m \u001b[1;33m=\u001b[0m \u001b[1;36m9\u001b[0m\u001b[1;33m\u001b[0m\u001b[1;33m\u001b[0m\u001b[0m\n\u001b[0m\u001b[0;32m      2\u001b[0m \u001b[1;31m# Because no setter created in parent class.\u001b[0m\u001b[1;33m\u001b[0m\u001b[1;33m\u001b[0m\u001b[0m\n",
      "\u001b[1;31mAttributeError\u001b[0m: can't set attribute"
     ]
    }
   ],
   "source": [
    "cell_1.price = 9\n",
    "# Because no setter created in parent class."
   ]
  },
  {
   "cell_type": "code",
   "execution_count": 82,
   "id": "fea81db8",
   "metadata": {},
   "outputs": [
    {
     "name": "stdout",
     "output_type": "stream",
     "text": [
      "6\n"
     ]
    }
   ],
   "source": [
    "print(cell_1.quantity)"
   ]
  },
  {
   "cell_type": "code",
   "execution_count": 83,
   "id": "0d4412f3",
   "metadata": {},
   "outputs": [],
   "source": [
    "cell_1.quantity = 9"
   ]
  },
  {
   "cell_type": "code",
   "execution_count": 84,
   "id": "bd7bf039",
   "metadata": {},
   "outputs": [
    {
     "name": "stdout",
     "output_type": "stream",
     "text": [
      "9\n"
     ]
    }
   ],
   "source": [
    "print(cell_1.quantity)"
   ]
  },
  {
   "cell_type": "code",
   "execution_count": 88,
   "id": "23d259dd",
   "metadata": {},
   "outputs": [
    {
     "ename": "Exception",
     "evalue": "Value should not be Zero.........",
     "output_type": "error",
     "traceback": [
      "\u001b[1;31m---------------------------------------------------------------------------\u001b[0m",
      "\u001b[1;31mException\u001b[0m                                 Traceback (most recent call last)",
      "\u001b[1;32m~\\AppData\\Local\\Temp/ipykernel_10760/3837643458.py\u001b[0m in \u001b[0;36m<module>\u001b[1;34m\u001b[0m\n\u001b[1;32m----> 1\u001b[1;33m \u001b[0mcell_1\u001b[0m\u001b[1;33m.\u001b[0m\u001b[0mquantity\u001b[0m \u001b[1;33m=\u001b[0m \u001b[1;36m0\u001b[0m\u001b[1;33m\u001b[0m\u001b[1;33m\u001b[0m\u001b[0m\n\u001b[0m\u001b[0;32m      2\u001b[0m \u001b[1;31m# see the @quantity.setter in Item class.........\u001b[0m\u001b[1;33m\u001b[0m\u001b[1;33m\u001b[0m\u001b[0m\n",
      "\u001b[1;32m~\\AppData\\Local\\Temp/ipykernel_10760/302476541.py\u001b[0m in \u001b[0;36mquantity\u001b[1;34m(self, value)\u001b[0m\n\u001b[0;32m     37\u001b[0m     \u001b[1;32mdef\u001b[0m \u001b[0mquantity\u001b[0m\u001b[1;33m(\u001b[0m\u001b[0mself\u001b[0m\u001b[1;33m,\u001b[0m\u001b[0mvalue\u001b[0m\u001b[1;33m)\u001b[0m\u001b[1;33m:\u001b[0m\u001b[1;33m\u001b[0m\u001b[1;33m\u001b[0m\u001b[0m\n\u001b[0;32m     38\u001b[0m         \u001b[1;32mif\u001b[0m \u001b[0mvalue\u001b[0m \u001b[1;33m==\u001b[0m \u001b[1;36m0\u001b[0m\u001b[1;33m:\u001b[0m\u001b[1;33m\u001b[0m\u001b[1;33m\u001b[0m\u001b[0m\n\u001b[1;32m---> 39\u001b[1;33m             \u001b[1;32mraise\u001b[0m \u001b[0mException\u001b[0m\u001b[1;33m(\u001b[0m\u001b[1;34m\"Value should not be Zero.........\"\u001b[0m\u001b[1;33m)\u001b[0m\u001b[1;33m\u001b[0m\u001b[1;33m\u001b[0m\u001b[0m\n\u001b[0m\u001b[0;32m     40\u001b[0m         \u001b[1;32melse\u001b[0m\u001b[1;33m:\u001b[0m\u001b[1;33m\u001b[0m\u001b[1;33m\u001b[0m\u001b[0m\n\u001b[0;32m     41\u001b[0m             \u001b[0mself\u001b[0m\u001b[1;33m.\u001b[0m\u001b[0m__quantity\u001b[0m \u001b[1;33m=\u001b[0m \u001b[0mvalue\u001b[0m\u001b[1;33m\u001b[0m\u001b[1;33m\u001b[0m\u001b[0m\n",
      "\u001b[1;31mException\u001b[0m: Value should not be Zero........."
     ]
    }
   ],
   "source": [
    "cell_1.quantity = 0\n",
    "# see the @quantity.setter in Item class........."
   ]
  },
  {
   "cell_type": "code",
   "execution_count": 89,
   "id": "bfe7b8fc",
   "metadata": {},
   "outputs": [],
   "source": [
    "cell_1.quantity = 5"
   ]
  },
  {
   "cell_type": "code",
   "execution_count": 90,
   "id": "31c5ccc9",
   "metadata": {},
   "outputs": [
    {
     "name": "stdout",
     "output_type": "stream",
     "text": [
      "5\n"
     ]
    }
   ],
   "source": [
    "print(cell_1.quantity)"
   ]
  },
  {
   "cell_type": "markdown",
   "id": "44d4598e",
   "metadata": {},
   "source": [
    "###### OOPS principles:\n",
    "1. Encapsulation\n",
    "2. Abstraction\n",
    "3. Inheritance\n",
    "4. Polymorphism"
   ]
  },
  {
   "cell_type": "markdown",
   "id": "68c2c2c0",
   "metadata": {},
   "source": [
    "###### 1. Encapsulation"
   ]
  },
  {
   "cell_type": "code",
   "execution_count": null,
   "id": "4470e541",
   "metadata": {},
   "outputs": [],
   "source": [
    "# Restricting direct access to some of our attributes in a program.\n",
    "#Example getter and setter is the Encapsulation principle......"
   ]
  },
  {
   "cell_type": "code",
   "execution_count": null,
   "id": "8f2cdb73",
   "metadata": {},
   "outputs": [],
   "source": [
    "# Already example before......"
   ]
  },
  {
   "cell_type": "code",
   "execution_count": 91,
   "id": "e47a0623",
   "metadata": {},
   "outputs": [],
   "source": [
    "class Item: #Parent class\n",
    "    # Class atributes defined.....\n",
    "    pay_rate_after_discount = 0.8 \n",
    "    all_instances_created = []\n",
    "    def __init__(self,name:str,price:float,quantity:float):\n",
    "        # Assertions to verify the received attributes.....\n",
    "        assert price >= 0,\"Price should not be less than zero or negative number, not a valid {}\".format(price)\n",
    "        assert quantity >= 0,\"Quantity should not be less than zero or negative number, not a valid {}\".format(quantity)\n",
    "        assert len(name) <= 100,\"Name shuld be less than 100 characters, not a valid {}\".format(name)\n",
    "        \n",
    "        # Instance attributes defined......\n",
    "        self.__name = name \n",
    "        self.__price = price \n",
    "        self.__quantity = quantity \n",
    "        \n",
    "        # Append the instance to the class attribute all_instances_created.\n",
    "        Item.all_instances_created.append(self) # accessing this attribute at class level.\n",
    "        \n",
    "    @property\n",
    "    # property decorator means read only attribute\n",
    "    def name(self):\n",
    "        return self.__name ## __name means Private instance attribute.........\n",
    "    @property\n",
    "    # property decorator means read only attribute\n",
    "    def price(self):\n",
    "        return self.__price ## __name means Private instance attribute.........\n",
    "    @property\n",
    "    # property decorator means read only attribute\n",
    "    def quantity(self):\n",
    "        return self.__quantity ## __name means Private instance attribute.........\n",
    "    \n",
    "    @name.setter\n",
    "    def name(self,value):\n",
    "        self.__name = value\n",
    "    @quantity.setter\n",
    "    def quantity(self,value):\n",
    "        if value == 0:\n",
    "            raise Exception(\"Value should not be Zero.........\")\n",
    "        else:\n",
    "            self.__quantity = value\n",
    "    \n",
    "    def calculate_total_price(self): \n",
    "        return self.__price * self.__quantity\n",
    "    # Example for abstraction - modifying self.__price by using an instance method......\n",
    "    def discount_price(self):\n",
    "        self.__price = self.__price * self.pay_rate_after_discount\n",
    "     # Example for abstraction - modifying self.__price by using an instance method......    \n",
    "    def apply_revised_cost(self,increment_value):\n",
    "        self.__price = self.__price * increment_value + self.__price\n",
    "        \n",
    "    def __repr__(self):\n",
    "        return \"{}({},{},{})\".format(self.__class__.__name__,self.name,self.price,self.quantity)\n",
    "    @classmethod\n",
    "    def read_from_csv_file(cls): # Class object itself is passed as the first argument in the background......\n",
    "        instances = []\n",
    "        with open('data.csv','r') as file: # This line of code reads the file and stores it in file.\n",
    "            read_dict = csv.DictReader(file) # Converts the data as dictionary.\n",
    "            items = list(read_dict)\n",
    "        for item in items:\n",
    "            instance = Phone(name = item.get('name'),price = float(item.get('price')),quantity = float(item.get('quantity')))\n",
    "            instances.append(instance)\n",
    "        return instances\n",
    "    @staticmethod\n",
    "    def is_float_verify(num):\n",
    "        if isinstance(num,float):\n",
    "            return True\n",
    "        else:\n",
    "            return False"
   ]
  },
  {
   "cell_type": "code",
   "execution_count": 92,
   "id": "bba5dd06",
   "metadata": {},
   "outputs": [],
   "source": [
    "class Cell(Item): # child class of Item\n",
    "    def __init__(self,name:str,price:float,quantity:float=0,damaged_cell:float=0): \n",
    "        # name:str,price:float,quantity:float=0,damaged_cell:float=0 duplication - answer key worded arguments......\n",
    "        # Call super function to access the class attributes/ methods of Item.\n",
    "        super().__init__(\n",
    "            name,price,quantity\n",
    "        )\n",
    "        # Assertions to verify the received attributes.....\n",
    "        # mention assertions that are unique to class Cell while others are inherited from class Item.\n",
    "        assert damaged_cell>=0,\"Damaged cell :  {}\".format(damaged_cell)\n",
    "        # Instance attributes defined...... unique to only class MobilePhone......\n",
    "        self.damaged_cell = damaged_cell\n",
    "        # Actions, we dont need all attribute in child class because we have acces to it  from Parent class.....\n",
    "        #Cell.all.append(self)\n",
    "    # overwriting the parent class __repr__ .....\n",
    "    def __repr__(self):\n",
    "        return \"{}({},{},{},{})\".format(self.__class__.__name__,self.name,self.price,self.quantity,self.damaged_cell)"
   ]
  },
  {
   "cell_type": "code",
   "execution_count": 93,
   "id": "00899253",
   "metadata": {},
   "outputs": [],
   "source": [
    "cell_1 = Cell(\"Oppo 100\",100,9,9)"
   ]
  },
  {
   "cell_type": "code",
   "execution_count": 94,
   "id": "8af7b20f",
   "metadata": {},
   "outputs": [],
   "source": [
    "cell_1.discount_price()"
   ]
  },
  {
   "cell_type": "code",
   "execution_count": 95,
   "id": "5989fd71",
   "metadata": {},
   "outputs": [
    {
     "name": "stdout",
     "output_type": "stream",
     "text": [
      "80.0\n"
     ]
    }
   ],
   "source": [
    "print(cell_1.price)"
   ]
  },
  {
   "cell_type": "code",
   "execution_count": 96,
   "id": "dab66677",
   "metadata": {},
   "outputs": [],
   "source": [
    "cell_1.apply_revised_cost(0.2)"
   ]
  },
  {
   "cell_type": "code",
   "execution_count": 97,
   "id": "81d41f16",
   "metadata": {},
   "outputs": [
    {
     "name": "stdout",
     "output_type": "stream",
     "text": [
      "96.0\n"
     ]
    }
   ],
   "source": [
    "print(cell_1.price)"
   ]
  },
  {
   "cell_type": "code",
   "execution_count": null,
   "id": "97e89ee5",
   "metadata": {},
   "outputs": [],
   "source": [
    "# Encapsulation in OOPS\n",
    "# We dont give access to price directly.\n",
    "# But the price is modified by using the instance method........."
   ]
  },
  {
   "cell_type": "markdown",
   "id": "1975be26",
   "metadata": {},
   "source": [
    "###### 2. Abstraction"
   ]
  },
  {
   "cell_type": "code",
   "execution_count": null,
   "id": "7ba909e3",
   "metadata": {},
   "outputs": [],
   "source": [
    "# Shows only necessary attributes and hides the unnecessary information........."
   ]
  },
  {
   "cell_type": "code",
   "execution_count": null,
   "id": "caf31d6e",
   "metadata": {},
   "outputs": [],
   "source": [
    "# Simulating the idea of sending email"
   ]
  },
  {
   "cell_type": "code",
   "execution_count": 98,
   "id": "d10a14a9",
   "metadata": {},
   "outputs": [],
   "source": [
    "class MyUsers: #Parent class\n",
    "    # Class atributes defined.....\n",
    "    all_users_instances_list = []\n",
    "    def __init__(self,name:str,age:int,email:str):\n",
    "        # Assertions to verify the received attributes.....\n",
    "        assert len(name) <= 100,\"Name should be less than 100 characters, not a valid {}\".format(name)\n",
    "        assert len(email) <= 100,\"Name should be less than 100 characters, not a valid {}\".format(name)\n",
    "        assert isinstance(age,int)\n",
    "        \n",
    "        # Instance attributes defined......\n",
    "        self.__name = name \n",
    "        self.__age = age \n",
    "        self.__email = email \n",
    "        \n",
    "        # Append the instance to the class attribute all_instances_created.\n",
    "        MyUsers.all_users_instances_list.append(self) # accessing this attribute at class level.\n",
    "        \n",
    "    @property\n",
    "    def name(self):\n",
    "        return self.__name \n",
    "    def age(self):\n",
    "        return self.__age \n",
    "    @property\n",
    "    def email(self):\n",
    "        return self.__email ## __name means Private instance attribute.........\n",
    "    @name.setter\n",
    "    def name(self,value):\n",
    "        self.__name = value\n",
    "    @email.setter\n",
    "    def email(self,value):\n",
    "        self.__email = value\n",
    "    # Simulation of sending an email\n",
    "    def __connect_server(self):\n",
    "        pass\n",
    "    def __send(self):\n",
    "        pass\n",
    "    def __prepare_body_email(self):\n",
    "        return \"Hello {},Welcome to the App.\\n Please confirm your email id which is {}. \\n Your age is {} and make sure you are above 18.\".format(self.name,self.email,self.age)\n",
    "    def send_email_to_user(self):\n",
    "        self.__connect_server()\n",
    "        self.__prepare_body_email()\n",
    "        self.__send()\n",
    "        # Hiding unnecessary information.....\n",
    "        # Here self.connect_server(), self.prepare_body_email() and self.send() are accessible from instances but only send_email_to_user() is needed to be access.\n",
    "        # Abstraction principle says hide the unnecessary and reveal only the necessary info or function needed for the user........\n",
    "        # So convert those methods to private methods......\n",
    "        # In Java those are called access modifiers.\n",
    "        # In Python we use __ double underscore.....\n",
    "        # Private methods can be called from only inside the class.\n",
    "    "
   ]
  },
  {
   "cell_type": "code",
   "execution_count": 99,
   "id": "fa525ad9",
   "metadata": {},
   "outputs": [],
   "source": [
    "user_1 = MyUsers(\"Vicky\",16,\"vicky12213@amshuhu.in\")"
   ]
  },
  {
   "cell_type": "code",
   "execution_count": 100,
   "id": "2b4890c8",
   "metadata": {},
   "outputs": [],
   "source": [
    "user_2 = MyUsers(\"Ranjith\",16,\"ranjith12213@amshuhu.in\")"
   ]
  },
  {
   "cell_type": "code",
   "execution_count": 101,
   "id": "9fce9146",
   "metadata": {},
   "outputs": [],
   "source": [
    "user_3 = MyUsers(\"Rajesh\",16,\"rajesh12213@amshuhu.in\")"
   ]
  },
  {
   "cell_type": "code",
   "execution_count": 102,
   "id": "10fa9a81",
   "metadata": {},
   "outputs": [
    {
     "name": "stdout",
     "output_type": "stream",
     "text": [
      "<__main__.MyUsers object at 0x000001427E02E1C0>\n",
      "<__main__.MyUsers object at 0x000001427E059880>\n",
      "<__main__.MyUsers object at 0x000001427E059730>\n"
     ]
    }
   ],
   "source": [
    "print(user_1)\n",
    "print(user_2)\n",
    "print(user_3)"
   ]
  },
  {
   "cell_type": "code",
   "execution_count": 103,
   "id": "6e080298",
   "metadata": {},
   "outputs": [
    {
     "data": {
      "text/plain": [
       "[<__main__.MyUsers at 0x1427e02e1c0>,\n",
       " <__main__.MyUsers at 0x1427e059880>,\n",
       " <__main__.MyUsers at 0x1427e059730>]"
      ]
     },
     "execution_count": 103,
     "metadata": {},
     "output_type": "execute_result"
    }
   ],
   "source": [
    "MyUsers.all_users_instances_list"
   ]
  },
  {
   "cell_type": "code",
   "execution_count": 105,
   "id": "ecf289ac",
   "metadata": {},
   "outputs": [],
   "source": [
    "user_1.#(press tab ans see to check if private methoids are accessible.....)"
   ]
  },
  {
   "cell_type": "code",
   "execution_count": 22,
   "id": "6a9b9dc7",
   "metadata": {},
   "outputs": [],
   "source": [
    "# Here\n",
    "user_1.send_email_to_user() # Is accessible"
   ]
  },
  {
   "cell_type": "code",
   "execution_count": 106,
   "id": "bf6facd9",
   "metadata": {},
   "outputs": [
    {
     "ename": "AttributeError",
     "evalue": "'MyUsers' object has no attribute '__connect_server'",
     "output_type": "error",
     "traceback": [
      "\u001b[1;31m---------------------------------------------------------------------------\u001b[0m",
      "\u001b[1;31mAttributeError\u001b[0m                            Traceback (most recent call last)",
      "\u001b[1;32m~\\AppData\\Local\\Temp/ipykernel_10760/2844647352.py\u001b[0m in \u001b[0;36m<module>\u001b[1;34m\u001b[0m\n\u001b[1;32m----> 1\u001b[1;33m \u001b[0muser_1\u001b[0m\u001b[1;33m.\u001b[0m\u001b[0m__connect_server\u001b[0m\u001b[1;33m(\u001b[0m\u001b[1;33m)\u001b[0m \u001b[1;31m# Abstraction principle in action./Abstraction principle is applied......\u001b[0m\u001b[1;33m\u001b[0m\u001b[1;33m\u001b[0m\u001b[0m\n\u001b[0m",
      "\u001b[1;31mAttributeError\u001b[0m: 'MyUsers' object has no attribute '__connect_server'"
     ]
    }
   ],
   "source": [
    "user_1.__connect_server() # Abstraction principle in action./Abstraction principle is applied......"
   ]
  },
  {
   "cell_type": "code",
   "execution_count": 24,
   "id": "da3b8d86",
   "metadata": {},
   "outputs": [
    {
     "ename": "AttributeError",
     "evalue": "'MyUsers' object has no attribute 'connect_server'",
     "output_type": "error",
     "traceback": [
      "\u001b[1;31m---------------------------------------------------------------------------\u001b[0m",
      "\u001b[1;31mAttributeError\u001b[0m                            Traceback (most recent call last)",
      "\u001b[1;32m~\\AppData\\Local\\Temp/ipykernel_10760/1706581305.py\u001b[0m in \u001b[0;36m<module>\u001b[1;34m\u001b[0m\n\u001b[1;32m----> 1\u001b[1;33m \u001b[0muser_1\u001b[0m\u001b[1;33m.\u001b[0m\u001b[0mconnect_server\u001b[0m\u001b[1;33m(\u001b[0m\u001b[1;33m)\u001b[0m\u001b[1;33m\u001b[0m\u001b[1;33m\u001b[0m\u001b[0m\n\u001b[0m",
      "\u001b[1;31mAttributeError\u001b[0m: 'MyUsers' object has no attribute 'connect_server'"
     ]
    }
   ],
   "source": [
    "user_1.connect_server() # Abstraction principle in action./Abstraction principle is applied......"
   ]
  },
  {
   "cell_type": "markdown",
   "id": "f72da9da",
   "metadata": {},
   "source": [
    "###### Inheritance"
   ]
  },
  {
   "cell_type": "code",
   "execution_count": null,
   "id": "1ff00b80",
   "metadata": {},
   "outputs": [],
   "source": [
    "# Already explained before"
   ]
  },
  {
   "cell_type": "markdown",
   "id": "eca20d7a",
   "metadata": {},
   "source": [
    "##### Polymorphism"
   ]
  },
  {
   "cell_type": "code",
   "execution_count": null,
   "id": "8a5f67d4",
   "metadata": {},
   "outputs": [],
   "source": [
    "# 'Polymorphism' means many forms, 'poly' meaning many and 'morphism' meaning forms........."
   ]
  },
  {
   "cell_type": "code",
   "execution_count": 107,
   "id": "67205985",
   "metadata": {},
   "outputs": [
    {
     "name": "stdout",
     "output_type": "stream",
     "text": [
      "25\n",
      "2\n"
     ]
    }
   ],
   "source": [
    "# Best example of polymorphism.\n",
    "# len() - built in function.\n",
    "\n",
    "# For a string - different behaviour.\n",
    "# Number of characters are returnes as output.\n",
    "string_1 = \"Hello Everyone Good Heart\"\n",
    "print(len(string_1))\n",
    "\n",
    "# For a list - different behaviour.\n",
    "# Number of items are returnes as output.\n",
    "list_1 = [\"Hello\", \"Heart\"]\n",
    "print(len(list_1))"
   ]
  },
  {
   "cell_type": "code",
   "execution_count": null,
   "id": "0590cddb",
   "metadata": {},
   "outputs": [],
   "source": [
    "# Terms of inheritance and polymorphism are combined"
   ]
  },
  {
   "cell_type": "code",
   "execution_count": 108,
   "id": "873cbacf",
   "metadata": {},
   "outputs": [],
   "source": [
    "class Item: #Parent class\n",
    "    # Class atributes defined.....\n",
    "    pay_rate_after_discount = 0.8 \n",
    "    all_instances_created = []\n",
    "    def __init__(self,name:str,price:float,quantity:float):\n",
    "        # Assertions to verify the received attributes.....\n",
    "        assert price >= 0,\"Price should not be less than zero or negative number, not a valid {}\".format(price)\n",
    "        assert quantity >= 0,\"Quantity should not be less than zero or negative number, not a valid {}\".format(quantity)\n",
    "        assert len(name) <= 100,\"Name shuld be less than 100 characters, not a valid {}\".format(name)\n",
    "        \n",
    "        # Instance attributes defined......\n",
    "        self.__name = name \n",
    "        self.__price = price \n",
    "        self.__quantity = quantity \n",
    "        \n",
    "        # Append the instance to the class attribute all_instances_created.\n",
    "        Item.all_instances_created.append(self) # accessing this attribute at class level.\n",
    "        \n",
    "    @property\n",
    "    # property decorator means read only attribute\n",
    "    def name(self):\n",
    "        return self.__name ## __name means Private instance attribute.........\n",
    "    @property\n",
    "    # property decorator means read only attribute\n",
    "    def price(self):\n",
    "        return self.__price ## __name means Private instance attribute.........\n",
    "    @property\n",
    "    # property decorator means read only attribute\n",
    "    def quantity(self):\n",
    "        return self.__quantity ## __name means Private instance attribute.........\n",
    "    \n",
    "    @name.setter\n",
    "    def name(self,value):\n",
    "        self.__name = value\n",
    "    @quantity.setter\n",
    "    def quantity(self,value):\n",
    "        if value == 0:\n",
    "            raise Exception(\"Value should not be Zero.........\")\n",
    "        else:\n",
    "            self.__quantity = value\n",
    "    \n",
    "    def calculate_total_price(self): \n",
    "        return self.__price * self.__quantity\n",
    "    # Example for abstraction - modifying self.__price by using an instance method......\n",
    "    def discount_price(self):\n",
    "        self.__price = self.__price * self.pay_rate_after_discount\n",
    "     # Example for abstraction - modifying self.__price by using an instance method......    \n",
    "    def apply_revised_cost(self,increment_value):\n",
    "        self.__price = self.__price * increment_value + self.__price\n",
    "        \n",
    "    def __repr__(self):\n",
    "        return \"{}({},{},{})\".format(self.__class__.__name__,self.name,self.price,self.quantity)\n",
    "    @classmethod\n",
    "    def read_from_csv_file(cls): # Class object itself is passed as the first argument in the background......\n",
    "        instances = []\n",
    "        with open('data.csv','r') as file: # This line of code reads the file and stores it in file.\n",
    "            read_dict = csv.DictReader(file) # Converts the data as dictionary.\n",
    "            items = list(read_dict)\n",
    "        for item in items:\n",
    "            instance = Phone(name = item.get('name'),price = float(item.get('price')),quantity = float(item.get('quantity')))\n",
    "            instances.append(instance)\n",
    "        return instances\n",
    "    @staticmethod\n",
    "    def is_float_verify(num):\n",
    "        if isinstance(num,float):\n",
    "            return True\n",
    "        else:\n",
    "            return False"
   ]
  },
  {
   "cell_type": "code",
   "execution_count": 109,
   "id": "e6a15db0",
   "metadata": {},
   "outputs": [],
   "source": [
    "class Cell(Item): # child class of Item\n",
    "    def __init__(self,name:str,price:float,quantity:float=0,damaged_cell:float=0): \n",
    "        # name:str,price:float,quantity:float=0,damaged_cell:float=0 duplication - answer key worded arguments......\n",
    "        # Call super function to access the class attributes/ methods of Item.\n",
    "        super().__init__(\n",
    "            name,price,quantity\n",
    "        )\n",
    "        # Assertions to verify the received attributes.....\n",
    "        # mention assertions that are unique to class Cell while others are inherited from class Item.\n",
    "        assert damaged_cell>=0,\"Damaged cell :  {}\".format(damaged_cell)\n",
    "        # Instance attributes defined...... unique to only class MobilePhone......\n",
    "        self.damaged_cell = damaged_cell\n",
    "        # Actions, we dont need all attribute in child class because we have acces to it  from Parent class.....\n",
    "        #Cell.all.append(self)\n",
    "    # overwriting the parent class __repr__ .....\n",
    "    def __repr__(self):\n",
    "        return \"{}({},{},{},{})\".format(self.__class__.__name__,self.name,self.price,self.quantity,self.damaged_cell)"
   ]
  },
  {
   "cell_type": "code",
   "execution_count": 110,
   "id": "90266e1e",
   "metadata": {},
   "outputs": [],
   "source": [
    "class Android(Cell): # child class of Cell\n",
    "    def __init__(self,name:str,price:float,quantity:float=0,damaged_cell:float=0,android_version = 5.0): \n",
    "        # name:str,price:float,quantity:float=0,damaged_cell:float=0 duplication - answer key worded arguments......\n",
    "        # Call super function to access the class attributes/ methods of Item.\n",
    "        super().__init__(\n",
    "            name,price,quantity,damaged_cell\n",
    "        )\n",
    "        # Assertions to verify the received attributes.....\n",
    "        \n",
    "        # Instance attributes defined...... unique to only class MobilePhone......\n",
    "        self.android_version = android_version\n",
    "        # Actions, we dont need all attribute in child class because we have acces to it  from Parent class.....\n",
    "    # overwriting the parent class __repr__ .....\n",
    "    def __repr__(self):\n",
    "        return \"{}('{}',{},{},{},{})\".format(self.__class__.__name__,self.name,self.price,self.quantity,self.damaged_cell,self.android_version)"
   ]
  },
  {
   "cell_type": "code",
   "execution_count": 112,
   "id": "7263e61d",
   "metadata": {},
   "outputs": [
    {
     "name": "stdout",
     "output_type": "stream",
     "text": [
      "100\n"
     ]
    }
   ],
   "source": [
    "print(cell_1.price)"
   ]
  },
  {
   "cell_type": "code",
   "execution_count": 111,
   "id": "f1c20e38",
   "metadata": {},
   "outputs": [],
   "source": [
    "cell_1 = Cell(\"Oppo 100\",100,9,9)"
   ]
  },
  {
   "cell_type": "code",
   "execution_count": 113,
   "id": "d9a4510a",
   "metadata": {},
   "outputs": [],
   "source": [
    "cell_1.discount_price() # accessing Item class instance method"
   ]
  },
  {
   "cell_type": "code",
   "execution_count": 114,
   "id": "1e2236df",
   "metadata": {},
   "outputs": [
    {
     "name": "stdout",
     "output_type": "stream",
     "text": [
      "80.0\n"
     ]
    }
   ],
   "source": [
    "print(cell_1.price)"
   ]
  },
  {
   "cell_type": "code",
   "execution_count": 115,
   "id": "dd4fddeb",
   "metadata": {},
   "outputs": [],
   "source": [
    "android_1 = Android(\"Vivo 100\",100,9,9)"
   ]
  },
  {
   "cell_type": "code",
   "execution_count": 116,
   "id": "7339bf13",
   "metadata": {},
   "outputs": [
    {
     "name": "stdout",
     "output_type": "stream",
     "text": [
      "Android('Vivo 100',100,9,9,5.0)\n"
     ]
    }
   ],
   "source": [
    "print(android_1)"
   ]
  },
  {
   "cell_type": "code",
   "execution_count": 117,
   "id": "2d28d571",
   "metadata": {},
   "outputs": [
    {
     "name": "stdout",
     "output_type": "stream",
     "text": [
      "100\n"
     ]
    }
   ],
   "source": [
    "print(android_1.price)"
   ]
  },
  {
   "cell_type": "code",
   "execution_count": 118,
   "id": "6d356ca9",
   "metadata": {},
   "outputs": [],
   "source": [
    "# Polymorphism in action - We can use single entity discount_price() written in Item class for different types of objects and Python knows how to handle it.\n",
    "# Inheritance and Polymorphism works together in many ways.\n",
    "android_1.discount_price()"
   ]
  },
  {
   "cell_type": "code",
   "execution_count": 119,
   "id": "9f7da35b",
   "metadata": {},
   "outputs": [
    {
     "name": "stdout",
     "output_type": "stream",
     "text": [
      "80.0\n"
     ]
    }
   ],
   "source": [
    "print(android_1.price)"
   ]
  },
  {
   "cell_type": "code",
   "execution_count": 120,
   "id": "b58653c2",
   "metadata": {},
   "outputs": [],
   "source": [
    "# We have full control of instance pay rate....\n",
    "android_1.pay_rate_after_discount = 0.7 # Over writing in child class is legal......"
   ]
  },
  {
   "cell_type": "code",
   "execution_count": 121,
   "id": "8b923ebb",
   "metadata": {},
   "outputs": [
    {
     "name": "stdout",
     "output_type": "stream",
     "text": [
      "80.0\n"
     ]
    }
   ],
   "source": [
    "print(android_1.price)"
   ]
  },
  {
   "cell_type": "code",
   "execution_count": 122,
   "id": "db2a4971",
   "metadata": {},
   "outputs": [],
   "source": [
    "android_1.discount_price()"
   ]
  },
  {
   "cell_type": "code",
   "execution_count": 123,
   "id": "e37fcb83",
   "metadata": {},
   "outputs": [
    {
     "name": "stdout",
     "output_type": "stream",
     "text": [
      "56.0\n"
     ]
    }
   ],
   "source": [
    "print(android_1.price)"
   ]
  },
  {
   "cell_type": "markdown",
   "id": "85107ea8",
   "metadata": {},
   "source": [
    "##### special method \"repr\""
   ]
  },
  {
   "cell_type": "code",
   "execution_count": 153,
   "id": "c84bca52",
   "metadata": {},
   "outputs": [],
   "source": [
    "class Item: #Parent class\n",
    "    # Class atributes defined.....\n",
    "    pay_rate_after_discount = 0.8 \n",
    "    all_instances_created = []\n",
    "    def __init__(self,name:str,price:float,quantity:float):\n",
    "        \n",
    "        # Instance attributes defined......\n",
    "        self.__name = name \n",
    "        self.__price = price \n",
    "        self.__quantity = quantity \n",
    "        \n",
    "        # Append the instance to the class attribute all_instances_created.\n",
    "        Item.all_instances_created.append(self) # accessing this attribute at class level.\n",
    "    def __repr__(self):\n",
    "        return \"{}({},{},{})\".format(self.__class__.__name__,self.__name,self.__price,self.__quantity)"
   ]
  },
  {
   "cell_type": "code",
   "execution_count": 169,
   "id": "9afb3306",
   "metadata": {},
   "outputs": [],
   "source": [
    "class Cell(Item): # child class of Item\n",
    "    def __init__(self,name:str,price:float,quantity:float=0,damaged_cell:float=0): \n",
    "       \n",
    "        super().__init__(\n",
    "            name,price,quantity\n",
    "        )\n",
    "        self.damaged_cell = damaged_cell\n",
    "        # Actions, we dont need all attribute in child class because we have acces to it  from Parent class.....\n",
    "        #Cell.all.append(self)\n",
    "    # overwriting the parent class __repr__ .....\n",
    "    #def __repr__(self):\n",
    "       #return \"{}({},{},{},{})\".format(self.__class__.__name__,self.__name,self.__price,self.__quantity,self.damaged_cell)"
   ]
  },
  {
   "cell_type": "code",
   "execution_count": 170,
   "id": "dd8db168",
   "metadata": {},
   "outputs": [],
   "source": [
    "item_1 = Item(\"Cadbury Silk\",76,55)"
   ]
  },
  {
   "cell_type": "code",
   "execution_count": 171,
   "id": "5822e3a2",
   "metadata": {},
   "outputs": [
    {
     "name": "stdout",
     "output_type": "stream",
     "text": [
      "Item(Cadbury Silk,76,55)\n"
     ]
    }
   ],
   "source": [
    "print(item_1.)"
   ]
  },
  {
   "cell_type": "code",
   "execution_count": null,
   "id": "5db1bc23",
   "metadata": {},
   "outputs": [],
   "source": [
    "###### Reference:\n",
    "### youtube link 1: https://www.youtube.com/watch?v=Ej_02ICOIgs\n",
    "### youtube link 2:https://www.youtube.com/watch?v=-pEs-Bss8Wc"
   ]
  }
 ],
 "metadata": {
  "kernelspec": {
   "display_name": "Python 3 (ipykernel)",
   "language": "python",
   "name": "python3"
  },
  "language_info": {
   "codemirror_mode": {
    "name": "ipython",
    "version": 3
   },
   "file_extension": ".py",
   "mimetype": "text/x-python",
   "name": "python",
   "nbconvert_exporter": "python",
   "pygments_lexer": "ipython3",
   "version": "3.9.7"
  }
 },
 "nbformat": 4,
 "nbformat_minor": 5
}
